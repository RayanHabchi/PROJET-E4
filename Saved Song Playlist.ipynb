{
 "cells": [
  {
   "cell_type": "markdown",
   "metadata": {},
   "source": [
    "## Imports"
   ]
  },
  {
   "cell_type": "code",
   "execution_count": 1,
   "metadata": {},
   "outputs": [],
   "source": [
    "import numpy as np\n",
    "import pandas as pd\n",
    "import matplotlib.pyplot as plt\n",
    "import seaborn as sns\n",
    "import os\n",
    "import spotipy\n",
    "from spotipy.oauth2 import SpotifyOAuth\n",
    "import csv\n",
    "from sklearn.cluster import KMeans\n",
    "from sklearn.preprocessing import StandardScaler\n",
    "from sklearn.pipeline import Pipeline\n",
    "from collections import defaultdict\n",
    "from sklearn.metrics import euclidean_distances\n",
    "from scipy.spatial.distance import cdist\n",
    "import time\n",
    "from spotipy import SpotifyException\n",
    "%matplotlib inline"
   ]
  },
  {
   "cell_type": "markdown",
   "metadata": {},
   "source": [
    "## Credentials API Spotify"
   ]
  },
  {
   "cell_type": "code",
   "execution_count": 2,
   "metadata": {},
   "outputs": [],
   "source": [
    "client_id = 'CLIEN_ID'\n",
    "client_secret = 'CLIENT_SECRET'\n",
    "redirect_uri = 'http://localhost:8888/callback'\n",
    "\n",
    "spotify_client = spotipy.Spotify(auth_manager=SpotifyOAuth(client_id=client_id, client_secret=client_secret, redirect_uri=redirect_uri, scope='user-library-read playlist-modify-public'))"
   ]
  },
  {
   "cell_type": "markdown",
   "metadata": {},
   "source": [
    "## Récupérer les chansons likées"
   ]
  },
  {
   "cell_type": "code",
   "execution_count": 3,
   "metadata": {},
   "outputs": [],
   "source": [
    "limit = 50  # nombre max de tracks par request\n",
    "offset = 0  # commencer par les 50 premiers sons\n",
    "\n",
    "liked_songs = []\n",
    "\n",
    "while offset < 500: # on récupère les 500 derniers sons likés\n",
    "    results = spotify_client.current_user_saved_tracks(limit=limit, offset=offset)\n",
    "    tracks = results['items']\n",
    "    \n",
    "    if not tracks:\n",
    "        break  \n",
    "    \n",
    "    liked_songs.extend(tracks)\n",
    "    offset += limit  "
   ]
  },
  {
   "cell_type": "markdown",
   "metadata": {},
   "source": [
    "## Formater les chansons likées en csv"
   ]
  },
  {
   "cell_type": "code",
   "execution_count": 10,
   "metadata": {},
   "outputs": [],
   "source": [
    "song_data = []\n",
    "\n",
    "fieldnames = ['valence', 'year', 'acousticness', 'artists', 'danceability', 'duration_ms', 'energy',\n",
    " 'explicit', 'id', 'instrumentalness', 'key', 'liveness', 'loudness', 'mode', 'name', 'popularity', 'release_date', 'speechiness', 'tempo', 'uri']\n",
    "\n",
    "liked_songs_split = [liked_songs[i:i+50] for i in range(0, len(liked_songs), 50)]\n",
    "\n",
    "\n",
    "for group in liked_songs_split:\n",
    "    track_ids = [item['track']['id'] for item in group]\n",
    "\n",
    "    audio_features = spotify_client.audio_features(track_ids)\n",
    "    track_details = spotify_client.tracks(track_ids)['tracks']\n",
    "\n",
    "    for i, item in enumerate(group):\n",
    "        audio_feature = audio_features[i]\n",
    "        details = track_details[i]\n",
    "\n",
    "        artists = ', '.join([artist['name'] for artist in details['artists']])\n",
    "\n",
    "        song_info = {\n",
    "            'id': item['track']['id'],\n",
    "            'uri': item['track']['uri'],\n",
    "            'name': item['track']['name'],\n",
    "            'artists': artists,\n",
    "            'key': audio_feature['key'],\n",
    "            'danceability': audio_feature['danceability'],\n",
    "            'liveness': audio_feature['liveness'],\n",
    "            'valence': audio_feature['valence'],\n",
    "            'year': details['album']['release_date'][:4],\n",
    "            'acousticness': audio_feature['acousticness'],\n",
    "            'duration_ms': audio_feature['duration_ms'],\n",
    "            'energy': audio_feature['energy'],\n",
    "            'explicit': int(details['explicit']),\n",
    "            'instrumentalness': audio_feature['instrumentalness'],\n",
    "            'loudness': audio_feature['loudness'],\n",
    "            'mode': audio_feature['mode'],\n",
    "            'popularity': details['popularity'],\n",
    "            'speechiness': audio_feature['speechiness'],\n",
    "            'tempo': audio_feature['tempo'],\n",
    "            'release_date': details['album']['release_date']\n",
    "        }\n",
    "\n",
    "        song_data.append(song_info)\n",
    "\n",
    "csv_filename = 'liked_songs.csv'\n",
    "with open(csv_filename, 'w', newline='', encoding='utf-8') as csvfile:\n",
    "    writer = csv.DictWriter(csvfile, fieldnames=fieldnames)\n",
    "    writer.writeheader()\n",
    "    writer.writerows(song_data)\n",
    "\n",
    "spotify_data = pd.read_csv(csv_filename)"
   ]
  },
  {
   "cell_type": "markdown",
   "metadata": {},
   "source": [
    "## K-means pour selectionner les sons qui iront dans la playlist"
   ]
  },
  {
   "cell_type": "code",
   "execution_count": 11,
   "metadata": {},
   "outputs": [
    {
     "name": "stdout",
     "output_type": "stream",
     "text": [
      "[Pipeline] ............ (step 1 of 2) Processing scaler, total=   0.0s\n"
     ]
    },
    {
     "name": "stderr",
     "output_type": "stream",
     "text": [
      "c:\\Users\\tafas\\AppData\\Local\\Programs\\Python\\Python311\\Lib\\site-packages\\sklearn\\cluster\\_kmeans.py:1416: FutureWarning: The default value of `n_init` will change from 10 to 'auto' in 1.4. Set the value of `n_init` explicitly to suppress the warning\n",
      "  super()._check_params_vs_input(X, default_n_init=10)\n",
      "c:\\Users\\tafas\\AppData\\Local\\Programs\\Python\\Python311\\Lib\\site-packages\\joblib\\externals\\loky\\backend\\context.py:136: UserWarning: Could not find the number of physical cores for the following reason:\n",
      "found 0 physical cores < 1\n",
      "Returning the number of logical cores instead. You can silence this warning by setting LOKY_MAX_CPU_COUNT to the number of cores you want to use.\n",
      "  warnings.warn(\n",
      "  File \"c:\\Users\\tafas\\AppData\\Local\\Programs\\Python\\Python311\\Lib\\site-packages\\joblib\\externals\\loky\\backend\\context.py\", line 282, in _count_physical_cores\n",
      "    raise ValueError(f\"found {cpu_count_physical} physical cores < 1\")\n"
     ]
    },
    {
     "name": "stdout",
     "output_type": "stream",
     "text": [
      "Initialization complete\n",
      "Iteration 0, inertia 5038.258094944283.\n",
      "Iteration 1, inertia 4014.784487399765.\n",
      "Iteration 2, inertia 3853.6912732958067.\n",
      "Iteration 3, inertia 3792.637399569749.\n",
      "Iteration 4, inertia 3775.8549305764104.\n",
      "Iteration 5, inertia 3763.658460588556.\n",
      "Iteration 6, inertia 3756.2659285963446.\n",
      "Iteration 7, inertia 3755.489675304496.\n",
      "Iteration 8, inertia 3754.2052068413077.\n",
      "Iteration 9, inertia 3753.459948784633.\n",
      "Iteration 10, inertia 3753.1295557992057.\n",
      "Iteration 11, inertia 3752.564345938242.\n",
      "Iteration 12, inertia 3752.2647488467355.\n",
      "Converged at iteration 12: strict convergence.\n",
      "Initialization complete\n",
      "Iteration 0, inertia 5344.319583104667.\n",
      "Iteration 1, inertia 4075.018446561729.\n",
      "Iteration 2, inertia 3952.376954396351.\n",
      "Iteration 3, inertia 3892.475222569987.\n",
      "Iteration 4, inertia 3852.7570572067843.\n",
      "Iteration 5, inertia 3813.8736064807254.\n",
      "Iteration 6, inertia 3771.4567092534203.\n",
      "Iteration 7, inertia 3758.755206658794.\n",
      "Iteration 8, inertia 3756.27293435268.\n",
      "Iteration 9, inertia 3754.4867257981455.\n",
      "Iteration 10, inertia 3751.433379090964.\n",
      "Iteration 11, inertia 3750.1419706404595.\n",
      "Iteration 12, inertia 3749.265082241435.\n",
      "Converged at iteration 12: strict convergence.\n",
      "Initialization complete\n",
      "Iteration 0, inertia 5092.327227791116.\n",
      "Iteration 1, inertia 4000.6009780920676.\n",
      "Iteration 2, inertia 3863.2527354710533.\n",
      "Iteration 3, inertia 3805.444426303254.\n",
      "Iteration 4, inertia 3767.5066925146148.\n",
      "Iteration 5, inertia 3737.2103897500674.\n",
      "Iteration 6, inertia 3719.3889314194157.\n",
      "Iteration 7, inertia 3703.1980893760065.\n",
      "Iteration 8, inertia 3696.418693412069.\n",
      "Iteration 9, inertia 3688.0240989637323.\n",
      "Iteration 10, inertia 3683.4432195282793.\n",
      "Iteration 11, inertia 3682.4404273238706.\n",
      "Iteration 12, inertia 3681.916128360388.\n",
      "Converged at iteration 12: strict convergence.\n",
      "Initialization complete\n",
      "Iteration 0, inertia 5146.992150037668.\n",
      "Iteration 1, inertia 4069.174012097894.\n",
      "Iteration 2, inertia 3935.9409218491332.\n",
      "Iteration 3, inertia 3858.787829633692.\n",
      "Iteration 4, inertia 3828.0671232968616.\n",
      "Iteration 5, inertia 3817.8829874337607.\n",
      "Iteration 6, inertia 3808.0469776356226.\n",
      "Iteration 7, inertia 3804.592577715232.\n",
      "Iteration 8, inertia 3803.8630811698554.\n",
      "Converged at iteration 8: strict convergence.\n",
      "Initialization complete\n",
      "Iteration 0, inertia 5032.950555983869.\n",
      "Iteration 1, inertia 4000.7829277769865.\n",
      "Iteration 2, inertia 3828.946666995407.\n",
      "Iteration 3, inertia 3758.4748579077036.\n",
      "Iteration 4, inertia 3726.1893676305267.\n",
      "Iteration 5, inertia 3710.418823555009.\n",
      "Iteration 6, inertia 3698.5095402399015.\n",
      "Iteration 7, inertia 3688.026639849372.\n",
      "Iteration 8, inertia 3679.01061318393.\n",
      "Iteration 9, inertia 3673.682219425201.\n",
      "Iteration 10, inertia 3668.8421648075514.\n",
      "Iteration 11, inertia 3667.9362115332606.\n",
      "Converged at iteration 11: strict convergence.\n",
      "Initialization complete\n",
      "Iteration 0, inertia 4875.339042639726.\n",
      "Iteration 1, inertia 3907.052605341596.\n",
      "Iteration 2, inertia 3794.4270387733504.\n",
      "Iteration 3, inertia 3741.6902730774636.\n",
      "Iteration 4, inertia 3711.4403266405548.\n",
      "Iteration 5, inertia 3691.8106440473616.\n",
      "Iteration 6, inertia 3685.2514157287.\n",
      "Iteration 7, inertia 3681.2595336094914.\n",
      "Iteration 8, inertia 3678.966710042275.\n",
      "Iteration 9, inertia 3677.4778689818363.\n",
      "Iteration 10, inertia 3674.61318072464.\n",
      "Iteration 11, inertia 3671.9783937017446.\n",
      "Iteration 12, inertia 3670.47115321321.\n",
      "Iteration 13, inertia 3668.7878126019054.\n",
      "Iteration 14, inertia 3667.6144086270933.\n",
      "Iteration 15, inertia 3667.0041336370714.\n",
      "Iteration 16, inertia 3666.5851439449098.\n",
      "Iteration 17, inertia 3666.121946161877.\n",
      "Iteration 18, inertia 3664.613188249317.\n",
      "Converged at iteration 18: strict convergence.\n",
      "Initialization complete\n",
      "Iteration 0, inertia 5127.670615761906.\n",
      "Iteration 1, inertia 4042.8827412342102.\n",
      "Iteration 2, inertia 3892.2142541077524.\n",
      "Iteration 3, inertia 3815.59749846905.\n",
      "Iteration 4, inertia 3768.0022154378107.\n",
      "Iteration 5, inertia 3740.119770550828.\n",
      "Iteration 6, inertia 3708.032233662683.\n",
      "Iteration 7, inertia 3685.811114888183.\n",
      "Iteration 8, inertia 3673.680200660804.\n",
      "Iteration 9, inertia 3667.9930839774597.\n",
      "Iteration 10, inertia 3661.855735453928.\n",
      "Iteration 11, inertia 3661.3449244838002.\n",
      "Converged at iteration 11: strict convergence.\n",
      "Initialization complete\n",
      "Iteration 0, inertia 5102.521361707648.\n",
      "Iteration 1, inertia 3912.1508127222296.\n",
      "Iteration 2, inertia 3783.19990110988.\n",
      "Iteration 3, inertia 3743.852960554516.\n",
      "Iteration 4, inertia 3725.8329776445844.\n",
      "Iteration 5, inertia 3717.7453830951877.\n",
      "Iteration 6, inertia 3713.222565202709.\n",
      "Iteration 7, inertia 3711.619941568942.\n",
      "Iteration 8, inertia 3706.666175737019.\n",
      "Iteration 9, inertia 3700.5728215932886.\n",
      "Iteration 10, inertia 3696.4614826794527.\n",
      "Iteration 11, inertia 3696.2240265015625.\n",
      "Converged at iteration 11: strict convergence.\n",
      "Initialization complete\n",
      "Iteration 0, inertia 5421.692595789907.\n",
      "Iteration 1, inertia 4138.3282777103295.\n",
      "Iteration 2, inertia 4001.807445814728.\n",
      "Iteration 3, inertia 3949.6867600125724.\n",
      "Iteration 4, inertia 3910.5919477876246.\n",
      "Iteration 5, inertia 3879.295895722137.\n",
      "Iteration 6, inertia 3851.8041686886972.\n",
      "Iteration 7, inertia 3808.543856961522.\n",
      "Iteration 8, inertia 3713.0811577932495.\n",
      "Iteration 9, inertia 3700.063809829577.\n",
      "Iteration 10, inertia 3697.0503404239917.\n",
      "Converged at iteration 10: strict convergence.\n",
      "Initialization complete\n",
      "Iteration 0, inertia 4900.697191033561.\n",
      "Iteration 1, inertia 3946.972534396013.\n",
      "Iteration 2, inertia 3836.783181905643.\n",
      "Iteration 3, inertia 3802.8585227614603.\n",
      "Iteration 4, inertia 3782.4472922880855.\n",
      "Iteration 5, inertia 3770.2361239888223.\n",
      "Iteration 6, inertia 3763.251440525849.\n",
      "Iteration 7, inertia 3756.995530048884.\n",
      "Iteration 8, inertia 3751.951184131706.\n",
      "Iteration 9, inertia 3749.3982809466343.\n",
      "Iteration 10, inertia 3748.9718742159107.\n",
      "Iteration 11, inertia 3748.563197786745.\n",
      "Converged at iteration 11: strict convergence.\n",
      "[Pipeline] ............ (step 2 of 2) Processing kmeans, total=   0.8s\n"
     ]
    }
   ],
   "source": [
    "song_cluster_pipeline = Pipeline([('scaler', StandardScaler()), \n",
    "                                  ('kmeans', KMeans(n_clusters=20, \n",
    "                                   verbose=2))], verbose=True)\n",
    "X = spotify_data.select_dtypes(np.number)\n",
    "number_cols = list(X.columns)\n",
    "song_cluster_pipeline.fit(X)\n",
    "song_cluster_labels = song_cluster_pipeline.predict(X)\n",
    "spotify_data['cluster_label'] = song_cluster_labels"
   ]
  },
  {
   "cell_type": "code",
   "execution_count": 12,
   "metadata": {},
   "outputs": [],
   "source": [
    "number_cols = ['valence', 'year', 'acousticness', 'danceability', 'duration_ms', 'energy', 'explicit',\n",
    " 'instrumentalness', 'key', 'liveness', 'loudness', 'mode', 'popularity', 'speechiness', 'tempo' ]\n",
    "\n",
    "def get_song_data(song, spotify_data): \n",
    "\n",
    "    song_data = spotify_data[(spotify_data['name'] == song['name']) \n",
    "                            & (spotify_data['year'] == song['year'])].iloc[0]\n",
    "    return song_data\n",
    "\n",
    "        \n",
    "\n",
    "def get_mean_vector(song_list, spotify_data):\n",
    "    \n",
    "    song_vectors = []\n",
    "    \n",
    "    for song in song_list:\n",
    "        song_data = get_song_data(song, spotify_data)\n",
    "        if song_data is None:\n",
    "            print('Warning: {} does not exist in Spotify or in database'.format(song['name']))\n",
    "            continue\n",
    "        song_vector = song_data[number_cols].values\n",
    "        song_vectors.append(song_vector)  \n",
    "    \n",
    "    song_matrix = np.array(list(song_vectors))\n",
    "    return np.mean(song_matrix, axis=0)\n",
    "\n",
    "def flatten_dict_list(dict_list):\n",
    "    \n",
    "    flattened_dict = defaultdict()\n",
    "    for key in dict_list[0].keys():\n",
    "        flattened_dict[key] = []\n",
    "    \n",
    "    for dictionary in dict_list:\n",
    "        for key, value in dictionary.items():\n",
    "            flattened_dict[key].append(value)\n",
    "            \n",
    "    return flattened_dict\n",
    "        \n",
    "\n",
    "def recommend_songs( song_list, spotify_data, n_songs=10):\n",
    "    \n",
    "    metadata_cols = ['name', 'year', 'artists', 'uri']\n",
    "    song_dict = flatten_dict_list(song_list)\n",
    "    \n",
    "    song_center = get_mean_vector(song_list, spotify_data)\n",
    "    scaler = song_cluster_pipeline.steps[0][1]\n",
    "    scaled_data = scaler.transform(spotify_data[number_cols])\n",
    "    scaled_song_center = scaler.transform(song_center.reshape(1, -1))\n",
    "    distances = cdist(scaled_song_center, scaled_data, 'cosine')\n",
    "    index = list(np.argsort(distances)[:, :n_songs][0])\n",
    "    \n",
    "    rec_songs = spotify_data.iloc[index]\n",
    "    #rec_songs = rec_songs[~rec_songs['name'].isin(song_dict['name'])] on commente ca pour inclure les sons qu'on donne en input dans la playlist\n",
    "    return rec_songs[metadata_cols].to_dict(orient='records')"
   ]
  },
  {
   "cell_type": "code",
   "execution_count": 14,
   "metadata": {},
   "outputs": [
    {
     "name": "stderr",
     "output_type": "stream",
     "text": [
      "c:\\Users\\tafas\\AppData\\Local\\Programs\\Python\\Python311\\Lib\\site-packages\\sklearn\\base.py:465: UserWarning: X does not have valid feature names, but StandardScaler was fitted with feature names\n",
      "  warnings.warn(\n"
     ]
    }
   ],
   "source": [
    "recommended = recommend_songs([{'name': \"son 1\", 'year': 2023}, {'name': \"son 2\", 'year': 2023}, {'name': \"son 3\", 'year': 2023}], spotify_data)"
   ]
  },
  {
   "cell_type": "markdown",
   "metadata": {},
   "source": [
    "## Créer la playlist"
   ]
  },
  {
   "cell_type": "code",
   "execution_count": 15,
   "metadata": {},
   "outputs": [],
   "source": [
    "playlist_name = 'ta nouvelle playliste'\n",
    "spotify_client.user_playlist_create(user=spotify_client.me()['id'], name=playlist_name)\n",
    "playlist_id = spotify_client.current_user_playlists(limit=1)['items'][0]['id']"
   ]
  },
  {
   "cell_type": "markdown",
   "metadata": {},
   "source": [
    "## Ajouter les sons selectionnés"
   ]
  },
  {
   "cell_type": "code",
   "execution_count": 16,
   "metadata": {},
   "outputs": [
    {
     "data": {
      "text/plain": [
       "{'snapshot_id': 'Miw0YWRlZTM0OGQ5MzBlNzU0MzYwMjM2MjQ1M2NiOGYyMDYzODgwMmQz'}"
      ]
     },
     "execution_count": 16,
     "metadata": {},
     "output_type": "execute_result"
    }
   ],
   "source": [
    "track_uris = [track['uri'] for track in recommended]\n",
    "spotify_client.user_playlist_add_tracks(user=spotify_client.me()['id'], playlist_id=playlist_id, tracks=track_uris)"
   ]
  }
 ],
 "metadata": {
  "kernelspec": {
   "display_name": "Python 3",
   "language": "python",
   "name": "python3"
  },
  "language_info": {
   "codemirror_mode": {
    "name": "ipython",
    "version": 3
   },
   "file_extension": ".py",
   "mimetype": "text/x-python",
   "name": "python",
   "nbconvert_exporter": "python",
   "pygments_lexer": "ipython3",
   "version": "3.11.5"
  }
 },
 "nbformat": 4,
 "nbformat_minor": 2
}
