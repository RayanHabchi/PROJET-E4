{
 "cells": [
  {
   "cell_type": "markdown",
   "metadata": {},
   "source": [
    "## Imports"
   ]
  },
  {
   "cell_type": "code",
   "execution_count": 82,
   "metadata": {},
   "outputs": [],
   "source": [
    "import numpy as np\n",
    "import pandas as pd\n",
    "import matplotlib.pyplot as plt\n",
    "import seaborn as sns\n",
    "import os\n",
    "import spotipy\n",
    "from spotipy.oauth2 import SpotifyOAuth\n",
    "import csv\n",
    "from sklearn.cluster import KMeans\n",
    "from sklearn.preprocessing import StandardScaler\n",
    "from sklearn.pipeline import Pipeline\n",
    "from collections import defaultdict\n",
    "from sklearn.metrics import euclidean_distances\n",
    "from scipy.spatial.distance import cdist\n",
    "%matplotlib inline"
   ]
  },
  {
   "cell_type": "markdown",
   "metadata": {},
   "source": [
    "## Credentials API Spotify"
   ]
  },
  {
   "cell_type": "code",
   "execution_count": 83,
   "metadata": {},
   "outputs": [],
   "source": [
    "client_id = 'CLIENT_ID'\n",
    "client_secret = 'CLIENT_SECRET'\n",
    "redirect_uri = 'http://localhost:8888/callback'\n",
    "\n",
    "spotify_client = spotipy.Spotify(auth_manager=SpotifyOAuth(client_id=client_id, client_secret=client_secret, redirect_uri=redirect_uri, scope='user-library-read playlist-modify-public'))"
   ]
  },
  {
   "cell_type": "markdown",
   "metadata": {},
   "source": [
    "## Récupérer les chansons likées"
   ]
  },
  {
   "cell_type": "code",
   "execution_count": 84,
   "metadata": {},
   "outputs": [],
   "source": [
    "liked_songs = spotify_client.current_user_saved_tracks(limit=50)"
   ]
  },
  {
   "cell_type": "code",
   "execution_count": 85,
   "metadata": {},
   "outputs": [],
   "source": [
    "song_data = []\n",
    "\n",
    "fieldnames = ['valence', 'year', 'acousticness', 'artists', 'danceability', 'duration_ms', 'energy',\n",
    " 'explicit', 'id', 'instrumentalness', 'key', 'liveness', 'loudness', 'mode', 'name', 'popularity', 'release_date', 'speechiness', 'tempo', 'uri']\n",
    "\n",
    "\n",
    "for item in liked_songs['items']:\n",
    "    track = item['track']\n",
    "    audio_features = spotify_client.audio_features(track['id'])[0]\n",
    "    track_details = spotify_client.track(track['id'])\n",
    "\n",
    "    artists = ', '.join([artist['name'] for artist in track['artists']])\n",
    "    \n",
    "    song_info = {\n",
    "        'id': track['id'],\n",
    "        'uri': track['uri'],\n",
    "        'name': track['name'],\n",
    "        'artists': artists,\n",
    "        'key': audio_features['key'],\n",
    "        'danceability': audio_features['danceability'],\n",
    "        'liveness': audio_features['liveness'],\n",
    "        'valence': audio_features['valence'],\n",
    "        'year': track_details['album']['release_date'][:4],\n",
    "        'acousticness': audio_features['acousticness'],\n",
    "        'duration_ms': audio_features['duration_ms'],\n",
    "        'energy': audio_features['energy'],\n",
    "        'explicit': int(track_details['explicit']),\n",
    "        'instrumentalness': audio_features['instrumentalness'],\n",
    "        'loudness': audio_features['loudness'],\n",
    "        'mode': audio_features['mode'],\n",
    "        'popularity': track_details['popularity'],\n",
    "        'speechiness': audio_features['speechiness'],\n",
    "        'tempo': audio_features['tempo'],\n",
    "        'release_date': track_details['album']['release_date']\n",
    "    }\n",
    "    \n",
    "    song_data.append(song_info)\n",
    "\n",
    "csv_filename = 'liked_songs.csv'\n",
    "with open(csv_filename, 'w', newline='', encoding='utf-8') as csvfile:\n",
    "    writer = csv.DictWriter(csvfile, fieldnames=fieldnames)\n",
    "    writer.writeheader()\n",
    "    writer.writerows(song_data)\n",
    "\n",
    "spotify_data = pd.read_csv(csv_filename)"
   ]
  },
  {
   "cell_type": "markdown",
   "metadata": {},
   "source": [
    "## K-means pour selectionner les sons qui iront dans la playlist"
   ]
  },
  {
   "cell_type": "code",
   "execution_count": 86,
   "metadata": {},
   "outputs": [
    {
     "name": "stdout",
     "output_type": "stream",
     "text": [
      "['valence', 'year', 'acousticness', 'danceability', 'duration_ms', 'energy', 'explicit', 'instrumentalness', 'key', 'liveness', 'loudness', 'mode', 'popularity', 'speechiness', 'tempo']\n",
      "[Pipeline] ............ (step 1 of 2) Processing scaler, total=   0.0s\n",
      "Initialization complete\n",
      "Iteration 0, inertia 298.7958995531692.\n",
      "Iteration 1, inertia 186.92680980080502.\n",
      "Iteration 2, inertia 184.44596298608568.\n",
      "Converged at iteration 2: strict convergence.\n",
      "Initialization complete\n",
      "Iteration 0, inertia 296.3417293167109.\n",
      "Iteration 1, inertia 199.45691993233453.\n",
      "Converged at iteration 1: strict convergence.\n",
      "Initialization complete\n",
      "Iteration 0, inertia 296.591962724927.\n",
      "Iteration 1, inertia 196.3165850426135.\n",
      "Iteration 2, inertia 191.7498124133591.\n",
      "Converged at iteration 2: strict convergence.\n",
      "Initialization complete\n",
      "Iteration 0, inertia 287.67163198603043.\n",
      "Iteration 1, inertia 192.3615079185568.\n",
      "Iteration 2, inertia 189.39683383153005.\n",
      "Converged at iteration 2: strict convergence.\n",
      "Initialization complete\n",
      "Iteration 0, inertia 284.3338546347041.\n",
      "Iteration 1, inertia 187.25381146769882.\n",
      "Converged at iteration 1: strict convergence.\n",
      "Initialization complete\n",
      "Iteration 0, inertia 296.8313435326634.\n",
      "Iteration 1, inertia 188.20401769196712.\n",
      "Converged at iteration 1: strict convergence.\n",
      "Initialization complete\n",
      "Iteration 0, inertia 286.40667600297667.\n",
      "Iteration 1, inertia 205.86687329438348.\n",
      "Iteration 2, inertia 198.0672849399687.\n",
      "Iteration 3, inertia 193.72530186960947.\n",
      "Converged at iteration 3: strict convergence.\n",
      "Initialization complete\n",
      "Iteration 0, inertia 287.9311547781151.\n",
      "Iteration 1, inertia 194.49839613320884.\n",
      "Converged at iteration 1: strict convergence.\n",
      "Initialization complete\n",
      "Iteration 0, inertia 293.544664847105.\n",
      "Iteration 1, inertia 182.22207432673505.\n",
      "Converged at iteration 1: strict convergence.\n",
      "Initialization complete\n",
      "Iteration 0, inertia 285.50702234171024.\n",
      "Iteration 1, inertia 191.3614331002069.\n",
      "Iteration 2, inertia 189.11410657380694.\n",
      "Converged at iteration 2: strict convergence.\n",
      "[Pipeline] ............ (step 2 of 2) Processing kmeans, total=   0.1s\n"
     ]
    },
    {
     "name": "stderr",
     "output_type": "stream",
     "text": [
      "c:\\Users\\tafas\\AppData\\Local\\Programs\\Python\\Python311\\Lib\\site-packages\\sklearn\\cluster\\_kmeans.py:1416: FutureWarning: The default value of `n_init` will change from 10 to 'auto' in 1.4. Set the value of `n_init` explicitly to suppress the warning\n",
      "  super()._check_params_vs_input(X, default_n_init=10)\n"
     ]
    }
   ],
   "source": [
    "song_cluster_pipeline = Pipeline([('scaler', StandardScaler()), \n",
    "                                  ('kmeans', KMeans(n_clusters=20, \n",
    "                                   verbose=2))], verbose=True)\n",
    "X = spotify_data.select_dtypes(np.number)\n",
    "number_cols = list(X.columns)\n",
    "print(number_cols)\n",
    "song_cluster_pipeline.fit(X)\n",
    "song_cluster_labels = song_cluster_pipeline.predict(X)\n",
    "spotify_data['cluster_label'] = song_cluster_labels"
   ]
  },
  {
   "cell_type": "code",
   "execution_count": 87,
   "metadata": {},
   "outputs": [],
   "source": [
    "number_cols = ['valence', 'year', 'acousticness', 'danceability', 'duration_ms', 'energy', 'explicit',\n",
    " 'instrumentalness', 'key', 'liveness', 'loudness', 'mode', 'popularity', 'speechiness', 'tempo' ]\n",
    "\n",
    "def get_song_data(song, spotify_data): \n",
    "\n",
    "    song_data = spotify_data[(spotify_data['name'] == song['name']) \n",
    "                            & (spotify_data['year'] == song['year'])].iloc[0]\n",
    "    return song_data\n",
    "\n",
    "        \n",
    "\n",
    "def get_mean_vector(song_list, spotify_data):\n",
    "    \n",
    "    song_vectors = []\n",
    "    \n",
    "    for song in song_list:\n",
    "        song_data = get_song_data(song, spotify_data)\n",
    "        if song_data is None:\n",
    "            print('Warning: {} does not exist in Spotify or in database'.format(song['name']))\n",
    "            continue\n",
    "        song_vector = song_data[number_cols].values\n",
    "        song_vectors.append(song_vector)  \n",
    "    \n",
    "    song_matrix = np.array(list(song_vectors))\n",
    "    return np.mean(song_matrix, axis=0)\n",
    "\n",
    "def flatten_dict_list(dict_list):\n",
    "    \n",
    "    flattened_dict = defaultdict()\n",
    "    for key in dict_list[0].keys():\n",
    "        flattened_dict[key] = []\n",
    "    \n",
    "    for dictionary in dict_list:\n",
    "        for key, value in dictionary.items():\n",
    "            flattened_dict[key].append(value)\n",
    "            \n",
    "    return flattened_dict\n",
    "        \n",
    "\n",
    "def recommend_songs( song_list, spotify_data, n_songs=10):\n",
    "    \n",
    "    metadata_cols = ['name', 'year', 'artists', 'uri']\n",
    "    song_dict = flatten_dict_list(song_list)\n",
    "    \n",
    "    song_center = get_mean_vector(song_list, spotify_data)\n",
    "    scaler = song_cluster_pipeline.steps[0][1]\n",
    "    scaled_data = scaler.transform(spotify_data[number_cols])\n",
    "    scaled_song_center = scaler.transform(song_center.reshape(1, -1))\n",
    "    distances = cdist(scaled_song_center, scaled_data, 'cosine')\n",
    "    index = list(np.argsort(distances)[:, :n_songs][0])\n",
    "    \n",
    "    rec_songs = spotify_data.iloc[index]\n",
    "    #rec_songs = rec_songs[~rec_songs['name'].isin(song_dict['name'])] on enlève cette ligne pour ajouter les sons input dans la playlist\n",
    "    return rec_songs[metadata_cols].to_dict(orient='records')"
   ]
  },
  {
   "cell_type": "code",
   "execution_count": 88,
   "metadata": {},
   "outputs": [
    {
     "name": "stdout",
     "output_type": "stream",
     "text": [
      "[{'name': 'dvsn interlude', 'year': 2023, 'artists': 'Rory, dvsn', 'uri': 'spotify:track:3x8V8IFJA0MPyuaYfse7Zd'}, {'name': 'Velvet Blue', 'year': 2023, 'artists': 'Ray Lozano', 'uri': 'spotify:track:1ppL3Tjizx9C6Vhd1TiIW0'}, {'name': 'HAUNTED Pt. 2', 'year': 2023, 'artists': 'Dswade808, Swade', 'uri': 'spotify:track:0Drl8lDcZjPSp2wYPZDmLd'}, {'name': 'Bahamas Promises', 'year': 2023, 'artists': 'Drake', 'uri': 'spotify:track:3JZjcKImHcmOI9ylL4zrSc'}, {'name': 'brush u', 'year': 2021, 'artists': 'Ragz Originale', 'uri': 'spotify:track:6tJBebmFkwDHCznVLzjIdc'}, {'name': 'Would You', 'year': 2022, 'artists': 'Kehina, emil', 'uri': 'spotify:track:2V9aEWXPvRmprVTZmTYf1J'}, {'name': '3 Peat', 'year': 2022, 'artists': 'Ambré', 'uri': 'spotify:track:5jyd1eGbvJtMThbVT13Dus'}, {'name': '7969 Santa', 'year': 2023, 'artists': 'Drake', 'uri': 'spotify:track:1GpWY5RiInhezB8wGWs6oN'}, {'name': 'Comme ça', 'year': 2023, 'artists': 'Rsko', 'uri': 'spotify:track:5FLLf89AfmWazFDM6ojiGk'}, {'name': 'Members Only (feat. PARTYNEXTDOOR)', 'year': 2023, 'artists': 'Drake, PARTYNEXTDOOR', 'uri': 'spotify:track:24FUBxaAYSBlWsbSnEzDcn'}]\n"
     ]
    },
    {
     "name": "stderr",
     "output_type": "stream",
     "text": [
      "c:\\Users\\tafas\\AppData\\Local\\Programs\\Python\\Python311\\Lib\\site-packages\\sklearn\\base.py:465: UserWarning: X does not have valid feature names, but StandardScaler was fitted with feature names\n",
      "  warnings.warn(\n"
     ]
    }
   ],
   "source": [
    "recommended = recommend_songs([{'name': \"son 1\", 'year': 2023}, {'name': \"son 2\", 'year': 2023}], spotify_data)"
   ]
  },
  {
   "cell_type": "markdown",
   "metadata": {},
   "source": [
    "## Créer la playlist"
   ]
  },
  {
   "cell_type": "code",
   "execution_count": 89,
   "metadata": {},
   "outputs": [],
   "source": [
    "playlist_name = 'faire couler le miel'\n",
    "spotify_client.user_playlist_create(user=spotify_client.me()['id'], name=playlist_name)\n",
    "playlist_id = spotify_client.current_user_playlists(limit=1)['items'][0]['id']"
   ]
  },
  {
   "cell_type": "markdown",
   "metadata": {},
   "source": [
    "## Ajouter les sons selectionnés"
   ]
  },
  {
   "cell_type": "code",
   "execution_count": 90,
   "metadata": {},
   "outputs": [
    {
     "data": {
      "text/plain": [
       "{'snapshot_id': 'MiwwMmZkNzM5MDkyNWNjMWY2MzFjNTljNDVkYjlkMWZmMjI4MzgwMGZl'}"
      ]
     },
     "execution_count": 90,
     "metadata": {},
     "output_type": "execute_result"
    }
   ],
   "source": [
    "track_uris = [track['uri'] for track in recommended]\n",
    "spotify_client.user_playlist_add_tracks(user=spotify_client.me()['id'], playlist_id=playlist_id, tracks=track_uris)"
   ]
  }
 ],
 "metadata": {
  "kernelspec": {
   "display_name": "Python 3",
   "language": "python",
   "name": "python3"
  },
  "language_info": {
   "codemirror_mode": {
    "name": "ipython",
    "version": 3
   },
   "file_extension": ".py",
   "mimetype": "text/x-python",
   "name": "python",
   "nbconvert_exporter": "python",
   "pygments_lexer": "ipython3",
   "version": "3.11.5"
  }
 },
 "nbformat": 4,
 "nbformat_minor": 2
}
