{
 "cells": [
  {
   "cell_type": "markdown",
   "metadata": {},
   "source": [
    "# Ce fichier a pour but de préparer les datasets de test et d'entrainement"
   ]
  },
  {
   "cell_type": "code",
   "execution_count": 10,
   "metadata": {},
   "outputs": [],
   "source": [
    "import numpy as np\n",
    "import pandas as pd\n",
    "import csv\n",
    "import spotipy\n",
    "from spotipy.oauth2 import SpotifyOAuth\n",
    "from spotipy import SpotifyException"
   ]
  },
  {
   "cell_type": "markdown",
   "metadata": {},
   "source": [
    "## Retirer colonnes inutiles et doublons"
   ]
  },
  {
   "cell_type": "code",
   "execution_count": 3,
   "metadata": {},
   "outputs": [],
   "source": [
    "csv_filename = 'data/spotify_dataset.csv'\n",
    "\n",
    "df = pd.read_csv(csv_filename, on_bad_lines='skip')\n",
    "\n",
    "df.columns = df.columns.str.strip().str.replace('\"', '')\n",
    "df_cleaned = df.dropna()\n",
    "df_cleaned = df_cleaned.drop_duplicates()\n",
    "\n",
    "# Ajouter l'id de l'user aux playlists 'Starred' et 'Liked from Radio'\n",
    "def update_playlist_name(row):\n",
    "    if row['playlistname'] == 'Starred':\n",
    "        return row['playlistname'] + row['user_id']\n",
    "    elif row['playlistname'] == 'Liked from Radio':\n",
    "        return row['playlistname'] + row['user_id']\n",
    "    return row['playlistname']\n",
    "\n",
    "# Appliquer la fonction à chaque ligne du DataFrame\n",
    "df_cleaned['playlistname'] = df_cleaned.apply(update_playlist_name, axis=1)\n",
    "\n",
    "# la colonne user_id n'est pas utile\n",
    "df_cleaned = df_cleaned.drop('user_id', axis=1)"
   ]
  },
  {
   "cell_type": "code",
   "execution_count": 4,
   "metadata": {},
   "outputs": [
    {
     "data": {
      "text/html": [
       "<div>\n",
       "<style scoped>\n",
       "    .dataframe tbody tr th:only-of-type {\n",
       "        vertical-align: middle;\n",
       "    }\n",
       "\n",
       "    .dataframe tbody tr th {\n",
       "        vertical-align: top;\n",
       "    }\n",
       "\n",
       "    .dataframe thead th {\n",
       "        text-align: right;\n",
       "    }\n",
       "</style>\n",
       "<table border=\"1\" class=\"dataframe\">\n",
       "  <thead>\n",
       "    <tr style=\"text-align: right;\">\n",
       "      <th></th>\n",
       "      <th>artistname</th>\n",
       "      <th>trackname</th>\n",
       "      <th>playlistname</th>\n",
       "    </tr>\n",
       "  </thead>\n",
       "  <tbody>\n",
       "    <tr>\n",
       "      <th>0</th>\n",
       "      <td>Elvis Costello</td>\n",
       "      <td>(The Angels Wanna Wear My) Red Shoes</td>\n",
       "      <td>HARD ROCK 2010</td>\n",
       "    </tr>\n",
       "    <tr>\n",
       "      <th>1</th>\n",
       "      <td>Elvis Costello &amp; The Attractions</td>\n",
       "      <td>(What's So Funny 'Bout) Peace, Love And Unders...</td>\n",
       "      <td>HARD ROCK 2010</td>\n",
       "    </tr>\n",
       "    <tr>\n",
       "      <th>2</th>\n",
       "      <td>Tiffany Page</td>\n",
       "      <td>7 Years Too Late</td>\n",
       "      <td>HARD ROCK 2010</td>\n",
       "    </tr>\n",
       "    <tr>\n",
       "      <th>3</th>\n",
       "      <td>Elvis Costello &amp; The Attractions</td>\n",
       "      <td>Accidents Will Happen</td>\n",
       "      <td>HARD ROCK 2010</td>\n",
       "    </tr>\n",
       "    <tr>\n",
       "      <th>4</th>\n",
       "      <td>Elvis Costello</td>\n",
       "      <td>Alison</td>\n",
       "      <td>HARD ROCK 2010</td>\n",
       "    </tr>\n",
       "  </tbody>\n",
       "</table>\n",
       "</div>"
      ],
      "text/plain": [
       "                         artistname  \\\n",
       "0                    Elvis Costello   \n",
       "1  Elvis Costello & The Attractions   \n",
       "2                      Tiffany Page   \n",
       "3  Elvis Costello & The Attractions   \n",
       "4                    Elvis Costello   \n",
       "\n",
       "                                           trackname    playlistname  \n",
       "0               (The Angels Wanna Wear My) Red Shoes  HARD ROCK 2010  \n",
       "1  (What's So Funny 'Bout) Peace, Love And Unders...  HARD ROCK 2010  \n",
       "2                                   7 Years Too Late  HARD ROCK 2010  \n",
       "3                              Accidents Will Happen  HARD ROCK 2010  \n",
       "4                                             Alison  HARD ROCK 2010  "
      ]
     },
     "execution_count": 4,
     "metadata": {},
     "output_type": "execute_result"
    }
   ],
   "source": [
    "df_cleaned.head()"
   ]
  },
  {
   "cell_type": "code",
   "execution_count": 5,
   "metadata": {},
   "outputs": [
    {
     "name": "stdout",
     "output_type": "stream",
     "text": [
      "       artistname trackname                             playlistname\n",
      "count    12856828  12856828                                 12856828\n",
      "unique     289602   2004520                                   165459\n",
      "top     Daft Punk     Intro  Starred4398de6902abde3351347b048fcdc287\n",
      "freq        36086      6675                                    47362\n"
     ]
    }
   ],
   "source": [
    "print(df_cleaned.describe())"
   ]
  },
  {
   "cell_type": "markdown",
   "metadata": {},
   "source": [
    "## Compter le nombre de colonnes"
   ]
  },
  {
   "cell_type": "code",
   "execution_count": 6,
   "metadata": {},
   "outputs": [
    {
     "name": "stdout",
     "output_type": "stream",
     "text": [
      "Minimum frequency: 1\n",
      "Maximum frequency: 47362\n",
      "Average frequency: 77.70401126563075\n",
      "Median frequency: 20.0\n"
     ]
    }
   ],
   "source": [
    "value_counts = df_cleaned['playlistname'].value_counts()\n",
    "\n",
    "min_frequency = value_counts.min()\n",
    "max_frequency = value_counts.max()\n",
    "average = value_counts.mean()\n",
    "median = value_counts.median()\n",
    "\n",
    "print(\"Minimum frequency:\", min_frequency)\n",
    "print(\"Maximum frequency:\", max_frequency)\n",
    "print(\"Average frequency:\", average)\n",
    "print(\"Median frequency:\", median)"
   ]
  },
  {
   "cell_type": "markdown",
   "metadata": {},
   "source": [
    "## Enlever les playlists qui ont moins de sons que la valeur médiane "
   ]
  },
  {
   "cell_type": "code",
   "execution_count": 8,
   "metadata": {},
   "outputs": [
    {
     "name": "stdout",
     "output_type": "stream",
     "text": [
      "       artistname trackname                             playlistname\n",
      "count    11972305  11972305                                 11972305\n",
      "unique     276342   1900562                                    81916\n",
      "top     Daft Punk     Intro  Starred4398de6902abde3351347b048fcdc287\n",
      "freq        34553      5859                                    47362\n"
     ]
    }
   ],
   "source": [
    "filtered_df = df_cleaned.groupby('playlistname').filter(lambda x: len(x) > median)\n",
    "print(filtered_df.describe())"
   ]
  },
  {
   "cell_type": "code",
   "execution_count": 9,
   "metadata": {},
   "outputs": [
    {
     "name": "stdout",
     "output_type": "stream",
     "text": [
      "Minimum frequency: 21\n",
      "Maximum frequency: 47362\n",
      "Average frequency: 146.1534376678549\n",
      "Median frequency: 51.0\n"
     ]
    }
   ],
   "source": [
    "value_counts = filtered_df['playlistname'].value_counts()\n",
    "\n",
    "min_frequency = value_counts.min()\n",
    "max_frequency = value_counts.max()\n",
    "average = value_counts.mean()\n",
    "median = value_counts.median()\n",
    "\n",
    "print(\"Minimum frequency:\", min_frequency)\n",
    "print(\"Maximum frequency:\", max_frequency)\n",
    "print(\"Average frequency:\", average)\n",
    "print(\"Median frequency:\", median)"
   ]
  },
  {
   "cell_type": "markdown",
   "metadata": {},
   "source": [
    "## Récupérer les caractéristiques des sons grâce à l'API de Spotify"
   ]
  },
  {
   "cell_type": "markdown",
   "metadata": {},
   "source": [
    "### credentials"
   ]
  },
  {
   "cell_type": "code",
   "execution_count": 11,
   "metadata": {},
   "outputs": [],
   "source": [
    "client_id = 'client id'\n",
    "client_secret = 'cleint secret'\n",
    "redirect_uri = 'http://localhost:8888/callback'\n",
    "\n",
    "spotify_client = spotipy.Spotify(auth_manager=SpotifyOAuth(client_id=client_id, client_secret=client_secret, redirect_uri=redirect_uri, scope='user-library-read playlist-modify-public'))"
   ]
  },
  {
   "cell_type": "code",
   "execution_count": 12,
   "metadata": {},
   "outputs": [],
   "source": [
    "test_df = filtered_df.head(100)"
   ]
  },
  {
   "cell_type": "code",
   "execution_count": 23,
   "metadata": {},
   "outputs": [
    {
     "name": "stdout",
     "output_type": "stream",
     "text": [
      "{'id': '08F16baYbciTva9P4BvpiI', 'name': 'MAFIA', 'artists': 'Travis Scott', 'key': 0, 'danceability': 0.855, 'liveness': 0.111, 'valence': 0.385, 'year': '2021', 'acousticness': 0.0775, 'duration_ms': 240000, 'energy': 0.492, 'explicit': 1, 'instrumentalness': 6.71e-06, 'loudness': -7.578, 'mode': 0, 'popularity': 69, 'speechiness': 0.0483, 'tempo': 109.975, 'release_date': '2021-11-05'}\n"
     ]
    }
   ],
   "source": [
    "# pas encore prêt\n",
    "def get_track_features(track_name, artist_name):\n",
    "    song_data = []\n",
    "\n",
    "    results = spotify_client.search(q=f'track:{track_name} artist:{artist_name}', type='track', limit=1)\n",
    "\n",
    "    if results['tracks']['items']:\n",
    "        track_id = results['tracks']['items'][0]['id']\n",
    "        audio_feature = spotify_client.audio_features(track_id)[0]\n",
    "        details = spotify_client.track(track_id)\n",
    "        artists = ', '.join([artist['name'] for artist in details['artists']])\n",
    "\n",
    "        song_info = {\n",
    "            'id': track_id,\n",
    "            'name': track_name,\n",
    "            'artists': artists,\n",
    "            'key': audio_feature['key'],\n",
    "            'danceability': audio_feature['danceability'],\n",
    "            'liveness': audio_feature['liveness'],\n",
    "            'valence': audio_feature['valence'],\n",
    "            'year': details['album']['release_date'][:4],\n",
    "            'acousticness': audio_feature['acousticness'],\n",
    "            'duration_ms': audio_feature['duration_ms'],\n",
    "            'energy': audio_feature['energy'],\n",
    "            'explicit': int(details['explicit']),\n",
    "            'instrumentalness': audio_feature['instrumentalness'],\n",
    "            'loudness': audio_feature['loudness'],\n",
    "            'mode': audio_feature['mode'],\n",
    "            'popularity': details['popularity'],\n",
    "            'speechiness': audio_feature['speechiness'],\n",
    "            'tempo': audio_feature['tempo'],\n",
    "            'release_date': details['album']['release_date']\n",
    "        }\n",
    "\n",
    "        song_data.append(song_info)"
   ]
  },
  {
   "cell_type": "code",
   "execution_count": null,
   "metadata": {},
   "outputs": [],
   "source": []
  },
  {
   "cell_type": "markdown",
   "metadata": {},
   "source": [
    "## Diviser le dataset en un set de test et un set d'entrainement"
   ]
  },
  {
   "cell_type": "code",
   "execution_count": null,
   "metadata": {},
   "outputs": [],
   "source": [
    "# enregister direct dans un csv"
   ]
  }
 ],
 "metadata": {
  "kernelspec": {
   "display_name": "Python 3",
   "language": "python",
   "name": "python3"
  },
  "language_info": {
   "codemirror_mode": {
    "name": "ipython",
    "version": 3
   },
   "file_extension": ".py",
   "mimetype": "text/x-python",
   "name": "python",
   "nbconvert_exporter": "python",
   "pygments_lexer": "ipython3",
   "version": "3.11.5"
  }
 },
 "nbformat": 4,
 "nbformat_minor": 2
}
