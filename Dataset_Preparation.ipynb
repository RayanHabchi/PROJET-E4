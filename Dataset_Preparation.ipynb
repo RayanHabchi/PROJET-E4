{
 "cells": [
  {
   "cell_type": "markdown",
   "metadata": {},
   "source": [
    "# Ce fichier a pour but de préparer les datasets de test et d'entrainement"
   ]
  },
  {
   "cell_type": "code",
   "execution_count": 1,
   "metadata": {},
   "outputs": [],
   "source": [
    "import numpy as np\n",
    "import pandas as pd\n",
    "import csv\n",
    "import spotipy\n",
    "from spotipy.oauth2 import SpotifyOAuth\n",
    "from spotipy import SpotifyException"
   ]
  },
  {
   "cell_type": "markdown",
   "metadata": {},
   "source": [
    "## Retirer colonnes inutiles et doublons"
   ]
  },
  {
   "cell_type": "code",
   "execution_count": 2,
   "metadata": {},
   "outputs": [],
   "source": [
    "csv_filename = 'data/spotify_dataset.csv'\n",
    "\n",
    "df = pd.read_csv(csv_filename, on_bad_lines='skip')\n",
    "\n",
    "df.columns = df.columns.str.strip().str.replace('\"', '')\n",
    "df_cleaned = df.dropna()\n",
    "df_cleaned = df_cleaned.drop_duplicates()\n",
    "\n",
    "# Ajouter l'id de l'user aux playlists 'Starred' et 'Liked from Radio'\n",
    "def update_playlist_name(row):\n",
    "    if row['playlistname'] == 'Starred':\n",
    "        return row['playlistname'] + row['user_id']\n",
    "    elif row['playlistname'] == 'Liked from Radio':\n",
    "        return row['playlistname'] + row['user_id']\n",
    "    return row['playlistname']\n",
    "\n",
    "# Appliquer la fonction à chaque ligne du DataFrame\n",
    "df_cleaned['playlistname'] = df_cleaned.apply(update_playlist_name, axis=1)\n",
    "\n",
    "# la colonne user_id n'est pas utile\n",
    "# df_cleaned = df_cleaned.drop('user_id', axis=1)"
   ]
  },
  {
   "cell_type": "code",
   "execution_count": 3,
   "metadata": {},
   "outputs": [
    {
     "data": {
      "text/html": [
       "<div>\n",
       "<style scoped>\n",
       "    .dataframe tbody tr th:only-of-type {\n",
       "        vertical-align: middle;\n",
       "    }\n",
       "\n",
       "    .dataframe tbody tr th {\n",
       "        vertical-align: top;\n",
       "    }\n",
       "\n",
       "    .dataframe thead th {\n",
       "        text-align: right;\n",
       "    }\n",
       "</style>\n",
       "<table border=\"1\" class=\"dataframe\">\n",
       "  <thead>\n",
       "    <tr style=\"text-align: right;\">\n",
       "      <th></th>\n",
       "      <th>user_id</th>\n",
       "      <th>artistname</th>\n",
       "      <th>trackname</th>\n",
       "      <th>playlistname</th>\n",
       "    </tr>\n",
       "  </thead>\n",
       "  <tbody>\n",
       "    <tr>\n",
       "      <th>0</th>\n",
       "      <td>9cc0cfd4d7d7885102480dd99e7a90d6</td>\n",
       "      <td>Elvis Costello</td>\n",
       "      <td>(The Angels Wanna Wear My) Red Shoes</td>\n",
       "      <td>HARD ROCK 2010</td>\n",
       "    </tr>\n",
       "    <tr>\n",
       "      <th>1</th>\n",
       "      <td>9cc0cfd4d7d7885102480dd99e7a90d6</td>\n",
       "      <td>Elvis Costello &amp; The Attractions</td>\n",
       "      <td>(What's So Funny 'Bout) Peace, Love And Unders...</td>\n",
       "      <td>HARD ROCK 2010</td>\n",
       "    </tr>\n",
       "    <tr>\n",
       "      <th>2</th>\n",
       "      <td>9cc0cfd4d7d7885102480dd99e7a90d6</td>\n",
       "      <td>Tiffany Page</td>\n",
       "      <td>7 Years Too Late</td>\n",
       "      <td>HARD ROCK 2010</td>\n",
       "    </tr>\n",
       "    <tr>\n",
       "      <th>3</th>\n",
       "      <td>9cc0cfd4d7d7885102480dd99e7a90d6</td>\n",
       "      <td>Elvis Costello &amp; The Attractions</td>\n",
       "      <td>Accidents Will Happen</td>\n",
       "      <td>HARD ROCK 2010</td>\n",
       "    </tr>\n",
       "    <tr>\n",
       "      <th>4</th>\n",
       "      <td>9cc0cfd4d7d7885102480dd99e7a90d6</td>\n",
       "      <td>Elvis Costello</td>\n",
       "      <td>Alison</td>\n",
       "      <td>HARD ROCK 2010</td>\n",
       "    </tr>\n",
       "  </tbody>\n",
       "</table>\n",
       "</div>"
      ],
      "text/plain": [
       "                            user_id                        artistname  \\\n",
       "0  9cc0cfd4d7d7885102480dd99e7a90d6                    Elvis Costello   \n",
       "1  9cc0cfd4d7d7885102480dd99e7a90d6  Elvis Costello & The Attractions   \n",
       "2  9cc0cfd4d7d7885102480dd99e7a90d6                      Tiffany Page   \n",
       "3  9cc0cfd4d7d7885102480dd99e7a90d6  Elvis Costello & The Attractions   \n",
       "4  9cc0cfd4d7d7885102480dd99e7a90d6                    Elvis Costello   \n",
       "\n",
       "                                           trackname    playlistname  \n",
       "0               (The Angels Wanna Wear My) Red Shoes  HARD ROCK 2010  \n",
       "1  (What's So Funny 'Bout) Peace, Love And Unders...  HARD ROCK 2010  \n",
       "2                                   7 Years Too Late  HARD ROCK 2010  \n",
       "3                              Accidents Will Happen  HARD ROCK 2010  \n",
       "4                                             Alison  HARD ROCK 2010  "
      ]
     },
     "execution_count": 3,
     "metadata": {},
     "output_type": "execute_result"
    }
   ],
   "source": [
    "df_cleaned.head()"
   ]
  },
  {
   "cell_type": "code",
   "execution_count": 4,
   "metadata": {},
   "outputs": [
    {
     "name": "stdout",
     "output_type": "stream",
     "text": [
      "                                 user_id artistname trackname  \\\n",
      "count                           12856835   12856835  12856835   \n",
      "unique                             15914     289603   2004523   \n",
      "top     4398de6902abde3351347b048fcdc287  Daft Punk     Intro   \n",
      "freq                              295274      36086      6675   \n",
      "\n",
      "                                   playlistname  \n",
      "count                                  12856835  \n",
      "unique                                   165459  \n",
      "top     Starred4398de6902abde3351347b048fcdc287  \n",
      "freq                                      47362  \n"
     ]
    }
   ],
   "source": [
    "print(df_cleaned.describe())"
   ]
  },
  {
   "cell_type": "markdown",
   "metadata": {},
   "source": [
    "## Compter le nombre de colonnes"
   ]
  },
  {
   "cell_type": "code",
   "execution_count": 5,
   "metadata": {},
   "outputs": [
    {
     "name": "stdout",
     "output_type": "stream",
     "text": [
      "Minimum frequency: 1\n",
      "Maximum frequency: 47362\n",
      "Average frequency: 77.70405357218405\n",
      "Median frequency: 20.0\n"
     ]
    }
   ],
   "source": [
    "value_counts = df_cleaned['playlistname'].value_counts()\n",
    "\n",
    "min_frequency = value_counts.min()\n",
    "max_frequency = value_counts.max()\n",
    "average = value_counts.mean()\n",
    "median = value_counts.median()\n",
    "\n",
    "print(\"Minimum frequency:\", min_frequency)\n",
    "print(\"Maximum frequency:\", max_frequency)\n",
    "print(\"Average frequency:\", average)\n",
    "print(\"Median frequency:\", median)"
   ]
  },
  {
   "cell_type": "markdown",
   "metadata": {},
   "source": [
    "## Enlever les playlists qui ont moins de sons que la valeur médiane "
   ]
  },
  {
   "cell_type": "code",
   "execution_count": 6,
   "metadata": {},
   "outputs": [
    {
     "name": "stdout",
     "output_type": "stream",
     "text": [
      "                                 user_id artistname trackname  \\\n",
      "count                           11972312   11972312  11972312   \n",
      "unique                             14694     276343   1900565   \n",
      "top     4398de6902abde3351347b048fcdc287  Daft Punk     Intro   \n",
      "freq                              295274      34553      5859   \n",
      "\n",
      "                                   playlistname  \n",
      "count                                  11972312  \n",
      "unique                                    81916  \n",
      "top     Starred4398de6902abde3351347b048fcdc287  \n",
      "freq                                      47362  \n"
     ]
    }
   ],
   "source": [
    "filtered_df = df_cleaned.groupby('playlistname').filter(lambda x: len(x) > median)\n",
    "print(filtered_df.describe())"
   ]
  },
  {
   "cell_type": "code",
   "execution_count": 7,
   "metadata": {},
   "outputs": [
    {
     "name": "stdout",
     "output_type": "stream",
     "text": [
      "Minimum frequency: 21\n",
      "Maximum frequency: 47362\n",
      "Average frequency: 146.15352312124617\n",
      "Median frequency: 51.0\n"
     ]
    }
   ],
   "source": [
    "value_counts = filtered_df['playlistname'].value_counts()\n",
    "\n",
    "min_frequency = value_counts.min()\n",
    "max_frequency = value_counts.max()\n",
    "average = value_counts.mean()\n",
    "median = value_counts.median()\n",
    "\n",
    "print(\"Minimum frequency:\", min_frequency)\n",
    "print(\"Maximum frequency:\", max_frequency)\n",
    "print(\"Average frequency:\", average)\n",
    "print(\"Median frequency:\", median)"
   ]
  },
  {
   "cell_type": "markdown",
   "metadata": {},
   "source": [
    "## Récupérer les caractéristiques des sons grâce à l'API de Spotify"
   ]
  },
  {
   "cell_type": "markdown",
   "metadata": {},
   "source": [
    "### credentials"
   ]
  },
  {
   "cell_type": "code",
   "execution_count": 8,
   "metadata": {},
   "outputs": [],
   "source": [
    "client_id = 'clientid'\n",
    "client_secret = 'clientsecret'\n",
    "redirect_uri = 'http://localhost:8888/callback'\n",
    "\n",
    "spotify_client = spotipy.Spotify(auth_manager=SpotifyOAuth(client_id=client_id, client_secret=client_secret, redirect_uri=redirect_uri, scope='user-library-read playlist-modify-public'))"
   ]
  },
  {
   "cell_type": "code",
   "execution_count": 9,
   "metadata": {},
   "outputs": [
    {
     "data": {
      "text/html": [
       "<div>\n",
       "<style scoped>\n",
       "    .dataframe tbody tr th:only-of-type {\n",
       "        vertical-align: middle;\n",
       "    }\n",
       "\n",
       "    .dataframe tbody tr th {\n",
       "        vertical-align: top;\n",
       "    }\n",
       "\n",
       "    .dataframe thead th {\n",
       "        text-align: right;\n",
       "    }\n",
       "</style>\n",
       "<table border=\"1\" class=\"dataframe\">\n",
       "  <thead>\n",
       "    <tr style=\"text-align: right;\">\n",
       "      <th></th>\n",
       "      <th>user_id</th>\n",
       "      <th>artistname</th>\n",
       "      <th>trackname</th>\n",
       "      <th>playlistname</th>\n",
       "    </tr>\n",
       "  </thead>\n",
       "  <tbody>\n",
       "    <tr>\n",
       "      <th>0</th>\n",
       "      <td>9cc0cfd4d7d7885102480dd99e7a90d6</td>\n",
       "      <td>Elvis Costello</td>\n",
       "      <td>(The Angels Wanna Wear My) Red Shoes</td>\n",
       "      <td>HARD ROCK 2010</td>\n",
       "    </tr>\n",
       "    <tr>\n",
       "      <th>1</th>\n",
       "      <td>9cc0cfd4d7d7885102480dd99e7a90d6</td>\n",
       "      <td>Elvis Costello &amp; The Attractions</td>\n",
       "      <td>(What's So Funny 'Bout) Peace, Love And Unders...</td>\n",
       "      <td>HARD ROCK 2010</td>\n",
       "    </tr>\n",
       "    <tr>\n",
       "      <th>2</th>\n",
       "      <td>9cc0cfd4d7d7885102480dd99e7a90d6</td>\n",
       "      <td>Tiffany Page</td>\n",
       "      <td>7 Years Too Late</td>\n",
       "      <td>HARD ROCK 2010</td>\n",
       "    </tr>\n",
       "    <tr>\n",
       "      <th>3</th>\n",
       "      <td>9cc0cfd4d7d7885102480dd99e7a90d6</td>\n",
       "      <td>Elvis Costello &amp; The Attractions</td>\n",
       "      <td>Accidents Will Happen</td>\n",
       "      <td>HARD ROCK 2010</td>\n",
       "    </tr>\n",
       "    <tr>\n",
       "      <th>4</th>\n",
       "      <td>9cc0cfd4d7d7885102480dd99e7a90d6</td>\n",
       "      <td>Elvis Costello</td>\n",
       "      <td>Alison</td>\n",
       "      <td>HARD ROCK 2010</td>\n",
       "    </tr>\n",
       "    <tr>\n",
       "      <th>5</th>\n",
       "      <td>9cc0cfd4d7d7885102480dd99e7a90d6</td>\n",
       "      <td>Lissie</td>\n",
       "      <td>All Be Okay</td>\n",
       "      <td>HARD ROCK 2010</td>\n",
       "    </tr>\n",
       "    <tr>\n",
       "      <th>6</th>\n",
       "      <td>9cc0cfd4d7d7885102480dd99e7a90d6</td>\n",
       "      <td>Paul McCartney</td>\n",
       "      <td>Band On The Run</td>\n",
       "      <td>HARD ROCK 2010</td>\n",
       "    </tr>\n",
       "    <tr>\n",
       "      <th>7</th>\n",
       "      <td>9cc0cfd4d7d7885102480dd99e7a90d6</td>\n",
       "      <td>Joe Echo</td>\n",
       "      <td>Beautiful</td>\n",
       "      <td>HARD ROCK 2010</td>\n",
       "    </tr>\n",
       "    <tr>\n",
       "      <th>8</th>\n",
       "      <td>9cc0cfd4d7d7885102480dd99e7a90d6</td>\n",
       "      <td>Paul McCartney</td>\n",
       "      <td>Blackbird - Live at CitiField, NYC - Digital A...</td>\n",
       "      <td>HARD ROCK 2010</td>\n",
       "    </tr>\n",
       "    <tr>\n",
       "      <th>9</th>\n",
       "      <td>9cc0cfd4d7d7885102480dd99e7a90d6</td>\n",
       "      <td>Lissie</td>\n",
       "      <td>Bright Side</td>\n",
       "      <td>HARD ROCK 2010</td>\n",
       "    </tr>\n",
       "  </tbody>\n",
       "</table>\n",
       "</div>"
      ],
      "text/plain": [
       "                            user_id                        artistname  \\\n",
       "0  9cc0cfd4d7d7885102480dd99e7a90d6                    Elvis Costello   \n",
       "1  9cc0cfd4d7d7885102480dd99e7a90d6  Elvis Costello & The Attractions   \n",
       "2  9cc0cfd4d7d7885102480dd99e7a90d6                      Tiffany Page   \n",
       "3  9cc0cfd4d7d7885102480dd99e7a90d6  Elvis Costello & The Attractions   \n",
       "4  9cc0cfd4d7d7885102480dd99e7a90d6                    Elvis Costello   \n",
       "5  9cc0cfd4d7d7885102480dd99e7a90d6                            Lissie   \n",
       "6  9cc0cfd4d7d7885102480dd99e7a90d6                    Paul McCartney   \n",
       "7  9cc0cfd4d7d7885102480dd99e7a90d6                          Joe Echo   \n",
       "8  9cc0cfd4d7d7885102480dd99e7a90d6                    Paul McCartney   \n",
       "9  9cc0cfd4d7d7885102480dd99e7a90d6                            Lissie   \n",
       "\n",
       "                                           trackname    playlistname  \n",
       "0               (The Angels Wanna Wear My) Red Shoes  HARD ROCK 2010  \n",
       "1  (What's So Funny 'Bout) Peace, Love And Unders...  HARD ROCK 2010  \n",
       "2                                   7 Years Too Late  HARD ROCK 2010  \n",
       "3                              Accidents Will Happen  HARD ROCK 2010  \n",
       "4                                             Alison  HARD ROCK 2010  \n",
       "5                                        All Be Okay  HARD ROCK 2010  \n",
       "6                                    Band On The Run  HARD ROCK 2010  \n",
       "7                                          Beautiful  HARD ROCK 2010  \n",
       "8  Blackbird - Live at CitiField, NYC - Digital A...  HARD ROCK 2010  \n",
       "9                                        Bright Side  HARD ROCK 2010  "
      ]
     },
     "execution_count": 9,
     "metadata": {},
     "output_type": "execute_result"
    }
   ],
   "source": [
    "test_df = filtered_df.head(1000) # 1000 sons = 3-4 minutes pour avoir les ids\n",
    "test_df.head(10)"
   ]
  },
  {
   "cell_type": "code",
   "execution_count": 10,
   "metadata": {},
   "outputs": [],
   "source": [
    "def get_track_ids(track_names, artist_names, dataframe):\n",
    "    track_ids = []\n",
    "    indices_to_delete = [] \n",
    "    for i, (track_name, artist_name) in enumerate(zip(track_names, artist_names)):\n",
    "        results = spotify_client.search(q=f'track:{track_name} artist:{artist_name}', type='track', limit=1)\n",
    "        if results['tracks']['items']:\n",
    "            track_id = results['tracks']['items'][0]['id']\n",
    "            track_ids.append(track_id) \n",
    "        else:\n",
    "            indices_to_delete.append(i)\n",
    "\n",
    "    if indices_to_delete: \n",
    "        dataframe = dataframe.drop(dataframe.index[indices_to_delete]).reset_index(drop=True)\n",
    "        \n",
    "    return track_ids, dataframe"
   ]
  },
  {
   "cell_type": "code",
   "execution_count": 11,
   "metadata": {},
   "outputs": [
    {
     "name": "stdout",
     "output_type": "stream",
     "text": [
      "                              user_id                        artistname  \\\n",
      "0    9cc0cfd4d7d7885102480dd99e7a90d6                    Elvis Costello   \n",
      "1    9cc0cfd4d7d7885102480dd99e7a90d6  Elvis Costello & The Attractions   \n",
      "2    9cc0cfd4d7d7885102480dd99e7a90d6  Elvis Costello & The Attractions   \n",
      "3    9cc0cfd4d7d7885102480dd99e7a90d6                    Elvis Costello   \n",
      "4    9cc0cfd4d7d7885102480dd99e7a90d6                            Lissie   \n",
      "..                                ...                               ...   \n",
      "885  07f0fc3be95dcd878966b1f9572ff670                          Deftones   \n",
      "886  07f0fc3be95dcd878966b1f9572ff670                        Audioslave   \n",
      "887  07f0fc3be95dcd878966b1f9572ff670                            John 5   \n",
      "888  07f0fc3be95dcd878966b1f9572ff670                               C2C   \n",
      "889  07f0fc3be95dcd878966b1f9572ff670                 Infected Mushroom   \n",
      "\n",
      "                                             trackname    playlistname  \n",
      "0                 (The Angels Wanna Wear My) Red Shoes  HARD ROCK 2010  \n",
      "1    (What's So Funny 'Bout) Peace, Love And Unders...  HARD ROCK 2010  \n",
      "2                                Accidents Will Happen  HARD ROCK 2010  \n",
      "3                                               Alison  HARD ROCK 2010  \n",
      "4                                          All Be Okay  HARD ROCK 2010  \n",
      "..                                                 ...             ...  \n",
      "885                      Be Quiet And Drive [Far Away]   Work playlist  \n",
      "886                                        Be Yourself   Work playlist  \n",
      "887                                            Beat It   Work playlist  \n",
      "888                                     Because Of You   Work playlist  \n",
      "889                                    Becoming Insane   Work playlist  \n",
      "\n",
      "[890 rows x 4 columns]\n"
     ]
    }
   ],
   "source": [
    "track_ids, test_df = get_track_ids(test_df['trackname'].tolist(), test_df['artistname'].tolist(), test_df)\n",
    "print(test_df)"
   ]
  },
  {
   "cell_type": "code",
   "execution_count": 12,
   "metadata": {},
   "outputs": [],
   "source": [
    "split = [track_ids[i:i+50] for i in range(0, len(track_ids), 50)]\n",
    "song_data = []\n",
    "fieldnames = ['valence', 'year', 'acousticness', 'artists', 'danceability', 'duration_ms', 'energy',\n",
    "              'explicit', 'id', 'instrumentalness', 'key', 'liveness', 'loudness', 'mode', 'name', \n",
    "              'popularity', 'release_date', 'speechiness', 'tempo', 'uri']\n",
    "\n",
    "for track_ids in split:\n",
    "    audio_features = spotify_client.audio_features(track_ids)\n",
    "    track_details = spotify_client.tracks(track_ids)['tracks']\n",
    "\n",
    "    for i, item in enumerate(track_ids):\n",
    "        audio_feature = audio_features[i]\n",
    "        details = track_details[i]\n",
    "\n",
    "        artists = ', '.join([artist['name'] for artist in details['artists']])\n",
    "\n",
    "        song_info = {\n",
    "            'artists': artists,\n",
    "            'key': audio_feature['key'],\n",
    "            'danceability': audio_feature['danceability'],\n",
    "            'liveness': audio_feature['liveness'],\n",
    "            'valence': audio_feature['valence'],\n",
    "            'year': details['album']['release_date'][:4],\n",
    "            'acousticness': audio_feature['acousticness'],\n",
    "            'duration_ms': audio_feature['duration_ms'],\n",
    "            'energy': audio_feature['energy'],\n",
    "            'explicit': int(details['explicit']),\n",
    "            'instrumentalness': audio_feature['instrumentalness'],\n",
    "            'loudness': audio_feature['loudness'],\n",
    "            'mode': audio_feature['mode'],\n",
    "            'popularity': details['popularity'],\n",
    "            'speechiness': audio_feature['speechiness'],\n",
    "            'tempo': audio_feature['tempo'],\n",
    "            'release_date': details['album']['release_date']\n",
    "        }\n",
    "\n",
    "        song_data.append(song_info)\n",
    "\n",
    "for i, data in enumerate(song_data):\n",
    "    for col, value in data.items():\n",
    "        if col not in test_df.columns:\n",
    "            test_df[col] = None\n",
    "        test_df.at[i, col] = value\n"
   ]
  },
  {
   "cell_type": "code",
   "execution_count": 13,
   "metadata": {},
   "outputs": [
    {
     "name": "stdout",
     "output_type": "stream",
     "text": [
      "890\n"
     ]
    }
   ],
   "source": [
    "test_df.head()\n",
    "print(len(test_df))"
   ]
  },
  {
   "cell_type": "markdown",
   "metadata": {},
   "source": [
    "# Ajout de la colonne l'URI de la track dans copy_test_df"
   ]
  },
  {
   "cell_type": "code",
   "execution_count": null,
   "metadata": {},
   "outputs": [],
   "source": [
    "test_df.head(1)\n",
    "\n",
    "# copie du dataframe\n",
    "copy_test_df = test_df.copy()\n",
    "\n",
    "print(\"colonnes avant : \\n\", copy_test_df.columns)\n",
    "\n",
    "# Ajout une colonne URI\n",
    "def get_track_uri(track_name, artist_name, spotify_client):\n",
    "    results = spotify_client.search(q=f'track:{track_name} artist:{artist_name}', type='track', limit=1)\n",
    "    if results['tracks']['items']:\n",
    "        track_uri = results['tracks']['items'][0]['uri']\n",
    "        return track_uri\n",
    "    else:\n",
    "        return None\n",
    "\n",
    "# Ajouter une colonne 'uri' contenant les identifiants URI dans copy_test_df\n",
    "copy_test_df['uri'] = copy_test_df.apply(lambda row: get_track_uri(row['trackname'], row['artistname'], spotify_client), axis=1)\n",
    "\n",
    "print(\"colonnes apères : \\n \", copy_test_df.columns)\n"
   ]
  },
  {
   "cell_type": "code",
   "execution_count": 32,
   "metadata": {},
   "outputs": [
    {
     "name": "stdout",
     "output_type": "stream",
     "text": [
      "Index(['user_id', 'artistname', 'trackname', 'playlistname', 'artists', 'key',\n",
      "       'danceability', 'liveness', 'valence', 'year', 'acousticness',\n",
      "       'duration_ms', 'energy', 'explicit', 'instrumentalness', 'loudness',\n",
      "       'mode', 'popularity', 'speechiness', 'tempo', 'release_date', 'uri'],\n",
      "      dtype='object')\n"
     ]
    },
    {
     "data": {
      "text/html": [
       "<div>\n",
       "<style scoped>\n",
       "    .dataframe tbody tr th:only-of-type {\n",
       "        vertical-align: middle;\n",
       "    }\n",
       "\n",
       "    .dataframe tbody tr th {\n",
       "        vertical-align: top;\n",
       "    }\n",
       "\n",
       "    .dataframe thead th {\n",
       "        text-align: right;\n",
       "    }\n",
       "</style>\n",
       "<table border=\"1\" class=\"dataframe\">\n",
       "  <thead>\n",
       "    <tr style=\"text-align: right;\">\n",
       "      <th></th>\n",
       "      <th>user_id</th>\n",
       "      <th>artistname</th>\n",
       "      <th>trackname</th>\n",
       "      <th>playlistname</th>\n",
       "      <th>artists</th>\n",
       "      <th>key</th>\n",
       "      <th>danceability</th>\n",
       "      <th>liveness</th>\n",
       "      <th>valence</th>\n",
       "      <th>year</th>\n",
       "      <th>...</th>\n",
       "      <th>energy</th>\n",
       "      <th>explicit</th>\n",
       "      <th>instrumentalness</th>\n",
       "      <th>loudness</th>\n",
       "      <th>mode</th>\n",
       "      <th>popularity</th>\n",
       "      <th>speechiness</th>\n",
       "      <th>tempo</th>\n",
       "      <th>release_date</th>\n",
       "      <th>uri</th>\n",
       "    </tr>\n",
       "  </thead>\n",
       "  <tbody>\n",
       "    <tr>\n",
       "      <th>0</th>\n",
       "      <td>9cc0cfd4d7d7885102480dd99e7a90d6</td>\n",
       "      <td>Elvis Costello</td>\n",
       "      <td>(The Angels Wanna Wear My) Red Shoes</td>\n",
       "      <td>HARD ROCK 2010</td>\n",
       "      <td>Elvis Costello</td>\n",
       "      <td>4</td>\n",
       "      <td>0.577</td>\n",
       "      <td>0.226</td>\n",
       "      <td>0.901</td>\n",
       "      <td>1977</td>\n",
       "      <td>...</td>\n",
       "      <td>0.636</td>\n",
       "      <td>0</td>\n",
       "      <td>0.00016</td>\n",
       "      <td>-9.825</td>\n",
       "      <td>1</td>\n",
       "      <td>40</td>\n",
       "      <td>0.0491</td>\n",
       "      <td>134.768</td>\n",
       "      <td>1977-07-22</td>\n",
       "      <td>spotify:track:0GmLrYUBXDC5vti77zBZfJ</td>\n",
       "    </tr>\n",
       "  </tbody>\n",
       "</table>\n",
       "<p>1 rows × 22 columns</p>\n",
       "</div>"
      ],
      "text/plain": [
       "                            user_id      artistname  \\\n",
       "0  9cc0cfd4d7d7885102480dd99e7a90d6  Elvis Costello   \n",
       "\n",
       "                              trackname    playlistname         artists key  \\\n",
       "0  (The Angels Wanna Wear My) Red Shoes  HARD ROCK 2010  Elvis Costello   4   \n",
       "\n",
       "  danceability liveness valence  year  ... energy explicit instrumentalness  \\\n",
       "0        0.577    0.226   0.901  1977  ...  0.636        0          0.00016   \n",
       "\n",
       "  loudness mode popularity speechiness    tempo release_date  \\\n",
       "0   -9.825    1         40      0.0491  134.768   1977-07-22   \n",
       "\n",
       "                                    uri  \n",
       "0  spotify:track:0GmLrYUBXDC5vti77zBZfJ  \n",
       "\n",
       "[1 rows x 22 columns]"
      ]
     },
     "execution_count": 32,
     "metadata": {},
     "output_type": "execute_result"
    }
   ],
   "source": [
    "print(copy_test_df.columns)\n",
    "copy_test_df.head(1)"
   ]
  },
  {
   "cell_type": "markdown",
   "metadata": {},
   "source": [
    "# Ajout de la colonne l'URI de la track dans spotify_data"
   ]
  },
  {
   "cell_type": "markdown",
   "metadata": {},
   "source": [
    "ça fonctionne ?"
   ]
  },
  {
   "cell_type": "code",
   "execution_count": 44,
   "metadata": {},
   "outputs": [
    {
     "name": "stdout",
     "output_type": "stream",
     "text": [
      "taille :  170653\n",
      "colonnes avant : \n",
      " Index(['valence', 'year', 'acousticness', 'artistname', 'danceability',\n",
      "       'duration_ms', 'energy', 'explicit', 'id', 'instrumentalness', 'key',\n",
      "       'liveness', 'loudness', 'mode', 'trackname', 'popularity',\n",
      "       'release_date', 'speechiness', 'tempo'],\n",
      "      dtype='object')\n"
     ]
    }
   ],
   "source": [
    "spotify_data = pd.read_csv('./data/data.csv.zip')\n",
    "\n",
    "# Data format\n",
    "spotify_data['artists'] = spotify_data['artists'].str.replace(\"['\", \"\", regex=False)\n",
    "spotify_data['artists'] = spotify_data['artists'].str.replace(\"']\", \"\", regex=False)\n",
    "spotify_data['artists'] = spotify_data['artists'].str.replace(\"'\", \"\", regex=False)\n",
    "\n",
    "spotify_data = spotify_data.rename(columns=lambda x: x.strip().replace('\"', ''))\n",
    "spotify_data = spotify_data.rename(columns={'name': 'trackname', 'artists': 'artistname'})\n",
    "\n",
    "print(\"taille : \", len(spotify_data))\n",
    "print(\"colonnes avant : \\n\", spotify_data.columns)"
   ]
  },
  {
   "cell_type": "code",
   "execution_count": 46,
   "metadata": {},
   "outputs": [
    {
     "name": "stdout",
     "output_type": "stream",
     "text": [
      "taille de spotify_data : 10\n",
      "colonnes avant : \n",
      " Index(['valence', 'year', 'acousticness', 'artistname', 'danceability',\n",
      "       'duration_ms', 'energy', 'explicit', 'id', 'instrumentalness', 'key',\n",
      "       'liveness', 'loudness', 'mode', 'trackname', 'popularity',\n",
      "       'release_date', 'speechiness', 'tempo'],\n",
      "      dtype='object')\n",
      "colonnes après : \n",
      " Index(['valence', 'year', 'acousticness', 'artistname', 'danceability',\n",
      "       'duration_ms', 'energy', 'explicit', 'id', 'instrumentalness', 'key',\n",
      "       'liveness', 'loudness', 'mode', 'trackname', 'popularity',\n",
      "       'release_date', 'speechiness', 'tempo', 'uri'],\n",
      "      dtype='object')\n"
     ]
    },
    {
     "name": "stderr",
     "output_type": "stream",
     "text": [
      "C:\\Users\\Liant\\AppData\\Local\\Temp\\ipykernel_10044\\959946254.py:7: SettingWithCopyWarning: \n",
      "A value is trying to be set on a copy of a slice from a DataFrame.\n",
      "Try using .loc[row_indexer,col_indexer] = value instead\n",
      "\n",
      "See the caveats in the documentation: https://pandas.pydata.org/pandas-docs/stable/user_guide/indexing.html#returning-a-view-versus-a-copy\n",
      "  copy_spotify_data['uri'] = copy_spotify_data.apply(lambda row: get_track_uri(row['trackname'], row['artistname'], spotify_client), axis=1)\n"
     ]
    }
   ],
   "source": [
    "# copie du dataframe mais que les 5 premiers sons\n",
    "copy_spotify_data = spotify_data.head(10)\n",
    "print(\"taille de spotify_data :\", len(copy_spotify_data))\n",
    "print(\"colonnes avant : \\n\", copy_spotify_data.columns)\n",
    "\n",
    "# Ajouter une colonne 'uri' contenant les identifiants URI dans copy_spotify_data\n",
    "copy_spotify_data['uri'] = copy_spotify_data.apply(lambda row: get_track_uri(row['trackname'], row['artistname'], spotify_client), axis=1)\n",
    "\n",
    "print(\"colonnes après : \\n\", copy_spotify_data.columns)"
   ]
  },
  {
   "cell_type": "code",
   "execution_count": 48,
   "metadata": {},
   "outputs": [
    {
     "data": {
      "text/html": [
       "<div>\n",
       "<style scoped>\n",
       "    .dataframe tbody tr th:only-of-type {\n",
       "        vertical-align: middle;\n",
       "    }\n",
       "\n",
       "    .dataframe tbody tr th {\n",
       "        vertical-align: top;\n",
       "    }\n",
       "\n",
       "    .dataframe thead th {\n",
       "        text-align: right;\n",
       "    }\n",
       "</style>\n",
       "<table border=\"1\" class=\"dataframe\">\n",
       "  <thead>\n",
       "    <tr style=\"text-align: right;\">\n",
       "      <th></th>\n",
       "      <th>valence</th>\n",
       "      <th>year</th>\n",
       "      <th>acousticness</th>\n",
       "      <th>artistname</th>\n",
       "      <th>danceability</th>\n",
       "      <th>duration_ms</th>\n",
       "      <th>energy</th>\n",
       "      <th>explicit</th>\n",
       "      <th>id</th>\n",
       "      <th>instrumentalness</th>\n",
       "      <th>key</th>\n",
       "      <th>liveness</th>\n",
       "      <th>loudness</th>\n",
       "      <th>mode</th>\n",
       "      <th>trackname</th>\n",
       "      <th>popularity</th>\n",
       "      <th>release_date</th>\n",
       "      <th>speechiness</th>\n",
       "      <th>tempo</th>\n",
       "      <th>uri</th>\n",
       "    </tr>\n",
       "  </thead>\n",
       "  <tbody>\n",
       "    <tr>\n",
       "      <th>0</th>\n",
       "      <td>0.0594</td>\n",
       "      <td>1921</td>\n",
       "      <td>0.982</td>\n",
       "      <td>Sergei Rachmaninoff, James Levine, Berliner Ph...</td>\n",
       "      <td>0.279</td>\n",
       "      <td>831667</td>\n",
       "      <td>0.211</td>\n",
       "      <td>0</td>\n",
       "      <td>4BJqT0PrAfrxzMOxytFOIz</td>\n",
       "      <td>0.878</td>\n",
       "      <td>10</td>\n",
       "      <td>0.665</td>\n",
       "      <td>-20.096</td>\n",
       "      <td>1</td>\n",
       "      <td>Piano Concerto No. 3 in D Minor, Op. 30: III. ...</td>\n",
       "      <td>4</td>\n",
       "      <td>1921</td>\n",
       "      <td>0.0366</td>\n",
       "      <td>80.954</td>\n",
       "      <td>spotify:track:6ZVPpYGLxrQySjXkCxtziR</td>\n",
       "    </tr>\n",
       "  </tbody>\n",
       "</table>\n",
       "</div>"
      ],
      "text/plain": [
       "   valence  year  acousticness  \\\n",
       "0   0.0594  1921         0.982   \n",
       "\n",
       "                                          artistname  danceability  \\\n",
       "0  Sergei Rachmaninoff, James Levine, Berliner Ph...         0.279   \n",
       "\n",
       "   duration_ms  energy  explicit                      id  instrumentalness  \\\n",
       "0       831667   0.211         0  4BJqT0PrAfrxzMOxytFOIz             0.878   \n",
       "\n",
       "   key  liveness  loudness  mode  \\\n",
       "0   10     0.665   -20.096     1   \n",
       "\n",
       "                                           trackname  popularity release_date  \\\n",
       "0  Piano Concerto No. 3 in D Minor, Op. 30: III. ...           4         1921   \n",
       "\n",
       "   speechiness   tempo                                   uri  \n",
       "0       0.0366  80.954  spotify:track:6ZVPpYGLxrQySjXkCxtziR  "
      ]
     },
     "execution_count": 48,
     "metadata": {},
     "output_type": "execute_result"
    }
   ],
   "source": [
    "copy_spotify_data.head(1)"
   ]
  },
  {
   "cell_type": "markdown",
   "metadata": {},
   "source": [
    "# CHERCHER UN SON EN COMMUN DANS DATA DES PLAYLIST ET L'AUTRE"
   ]
  },
  {
   "cell_type": "markdown",
   "metadata": {},
   "source": [
    "à faire"
   ]
  },
  {
   "cell_type": "code",
   "execution_count": null,
   "metadata": {},
   "outputs": [],
   "source": []
  },
  {
   "cell_type": "markdown",
   "metadata": {},
   "source": [
    "## Diviser le dataset en un set de test et un set d'entrainement"
   ]
  },
  {
   "cell_type": "code",
   "execution_count": 15,
   "metadata": {},
   "outputs": [],
   "source": [
    "# enregister direct dans un csv"
   ]
  }
 ],
 "metadata": {
  "kernelspec": {
   "display_name": "Python 3",
   "language": "python",
   "name": "python3"
  },
  "language_info": {
   "codemirror_mode": {
    "name": "ipython",
    "version": 3
   },
   "file_extension": ".py",
   "mimetype": "text/x-python",
   "name": "python",
   "nbconvert_exporter": "python",
   "pygments_lexer": "ipython3",
   "version": "3.9.13"
  }
 },
 "nbformat": 4,
 "nbformat_minor": 2
}
