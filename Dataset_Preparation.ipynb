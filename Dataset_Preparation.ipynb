{
 "cells": [
  {
   "cell_type": "markdown",
   "metadata": {},
   "source": [
    "# Ce fichier a pour but de préparer les datasets de test et d'entrainement"
   ]
  },
  {
   "cell_type": "code",
   "execution_count": 2,
   "metadata": {},
   "outputs": [],
   "source": [
    "import numpy as np\n",
    "import pandas as pd\n",
    "import csv\n",
    "import spotipy\n",
    "from spotipy.oauth2 import SpotifyOAuth\n",
    "from spotipy import SpotifyException"
   ]
  },
  {
   "cell_type": "markdown",
   "metadata": {},
   "source": [
    "## Retirer colonnes inutiles et doublons"
   ]
  },
  {
   "cell_type": "code",
   "execution_count": 3,
   "metadata": {},
   "outputs": [],
   "source": [
    "csv_filename = 'data/spotify_dataset.csv'\n",
    "\n",
    "df = pd.read_csv(csv_filename, on_bad_lines='skip')\n",
    "\n",
    "df.columns = df.columns.str.strip().str.replace('\"', '')\n",
    "df_cleaned = df.dropna()\n",
    "df_cleaned = df_cleaned.drop_duplicates()\n",
    "\n",
    "# Ajouter l'id de l'user aux playlists 'Starred' et 'Liked from Radio'\n",
    "def update_playlist_name(row):\n",
    "    if row['playlistname'] == 'Starred':\n",
    "        return row['playlistname'] + row['user_id']\n",
    "    elif row['playlistname'] == 'Liked from Radio':\n",
    "        return row['playlistname'] + row['user_id']\n",
    "    return row['playlistname']\n",
    "\n",
    "# Appliquer la fonction à chaque ligne du DataFrame\n",
    "df_cleaned['playlistname'] = df_cleaned.apply(update_playlist_name, axis=1)\n",
    "\n",
    "# la colonne user_id n'est pas utile\n",
    "# df_cleaned = df_cleaned.drop('user_id', axis=1)"
   ]
  },
  {
   "cell_type": "code",
   "execution_count": 4,
   "metadata": {},
   "outputs": [
    {
     "data": {
      "text/html": [
       "<div>\n",
       "<style scoped>\n",
       "    .dataframe tbody tr th:only-of-type {\n",
       "        vertical-align: middle;\n",
       "    }\n",
       "\n",
       "    .dataframe tbody tr th {\n",
       "        vertical-align: top;\n",
       "    }\n",
       "\n",
       "    .dataframe thead th {\n",
       "        text-align: right;\n",
       "    }\n",
       "</style>\n",
       "<table border=\"1\" class=\"dataframe\">\n",
       "  <thead>\n",
       "    <tr style=\"text-align: right;\">\n",
       "      <th></th>\n",
       "      <th>user_id</th>\n",
       "      <th>artistname</th>\n",
       "      <th>trackname</th>\n",
       "      <th>playlistname</th>\n",
       "    </tr>\n",
       "  </thead>\n",
       "  <tbody>\n",
       "    <tr>\n",
       "      <th>0</th>\n",
       "      <td>9cc0cfd4d7d7885102480dd99e7a90d6</td>\n",
       "      <td>Elvis Costello</td>\n",
       "      <td>(The Angels Wanna Wear My) Red Shoes</td>\n",
       "      <td>HARD ROCK 2010</td>\n",
       "    </tr>\n",
       "    <tr>\n",
       "      <th>1</th>\n",
       "      <td>9cc0cfd4d7d7885102480dd99e7a90d6</td>\n",
       "      <td>Elvis Costello &amp; The Attractions</td>\n",
       "      <td>(What's So Funny 'Bout) Peace, Love And Unders...</td>\n",
       "      <td>HARD ROCK 2010</td>\n",
       "    </tr>\n",
       "    <tr>\n",
       "      <th>2</th>\n",
       "      <td>9cc0cfd4d7d7885102480dd99e7a90d6</td>\n",
       "      <td>Tiffany Page</td>\n",
       "      <td>7 Years Too Late</td>\n",
       "      <td>HARD ROCK 2010</td>\n",
       "    </tr>\n",
       "    <tr>\n",
       "      <th>3</th>\n",
       "      <td>9cc0cfd4d7d7885102480dd99e7a90d6</td>\n",
       "      <td>Elvis Costello &amp; The Attractions</td>\n",
       "      <td>Accidents Will Happen</td>\n",
       "      <td>HARD ROCK 2010</td>\n",
       "    </tr>\n",
       "    <tr>\n",
       "      <th>4</th>\n",
       "      <td>9cc0cfd4d7d7885102480dd99e7a90d6</td>\n",
       "      <td>Elvis Costello</td>\n",
       "      <td>Alison</td>\n",
       "      <td>HARD ROCK 2010</td>\n",
       "    </tr>\n",
       "  </tbody>\n",
       "</table>\n",
       "</div>"
      ],
      "text/plain": [
       "                            user_id                        artistname  \\\n",
       "0  9cc0cfd4d7d7885102480dd99e7a90d6                    Elvis Costello   \n",
       "1  9cc0cfd4d7d7885102480dd99e7a90d6  Elvis Costello & The Attractions   \n",
       "2  9cc0cfd4d7d7885102480dd99e7a90d6                      Tiffany Page   \n",
       "3  9cc0cfd4d7d7885102480dd99e7a90d6  Elvis Costello & The Attractions   \n",
       "4  9cc0cfd4d7d7885102480dd99e7a90d6                    Elvis Costello   \n",
       "\n",
       "                                           trackname    playlistname  \n",
       "0               (The Angels Wanna Wear My) Red Shoes  HARD ROCK 2010  \n",
       "1  (What's So Funny 'Bout) Peace, Love And Unders...  HARD ROCK 2010  \n",
       "2                                   7 Years Too Late  HARD ROCK 2010  \n",
       "3                              Accidents Will Happen  HARD ROCK 2010  \n",
       "4                                             Alison  HARD ROCK 2010  "
      ]
     },
     "execution_count": 4,
     "metadata": {},
     "output_type": "execute_result"
    }
   ],
   "source": [
    "df_cleaned.head()"
   ]
  },
  {
   "cell_type": "code",
   "execution_count": 5,
   "metadata": {},
   "outputs": [
    {
     "name": "stdout",
     "output_type": "stream",
     "text": [
      "                                 user_id artistname trackname  \\\n",
      "count                           12856828   12856828  12856828   \n",
      "unique                             15914     289602   2004520   \n",
      "top     4398de6902abde3351347b048fcdc287  Daft Punk     Intro   \n",
      "freq                              295274      36086      6675   \n",
      "\n",
      "                                   playlistname  \n",
      "count                                  12856828  \n",
      "unique                                   165459  \n",
      "top     Starred4398de6902abde3351347b048fcdc287  \n",
      "freq                                      47362  \n"
     ]
    }
   ],
   "source": [
    "print(df_cleaned.describe())"
   ]
  },
  {
   "cell_type": "markdown",
   "metadata": {},
   "source": [
    "## Compter le nombre de colonnes"
   ]
  },
  {
   "cell_type": "code",
   "execution_count": 6,
   "metadata": {},
   "outputs": [
    {
     "name": "stdout",
     "output_type": "stream",
     "text": [
      "Minimum frequency: 1\n",
      "Maximum frequency: 47362\n",
      "Average frequency: 77.70401126563075\n",
      "Median frequency: 20.0\n"
     ]
    }
   ],
   "source": [
    "value_counts = df_cleaned['playlistname'].value_counts()\n",
    "\n",
    "min_frequency = value_counts.min()\n",
    "max_frequency = value_counts.max()\n",
    "average = value_counts.mean()\n",
    "median = value_counts.median()\n",
    "\n",
    "print(\"Minimum frequency:\", min_frequency)\n",
    "print(\"Maximum frequency:\", max_frequency)\n",
    "print(\"Average frequency:\", average)\n",
    "print(\"Median frequency:\", median)"
   ]
  },
  {
   "cell_type": "markdown",
   "metadata": {},
   "source": [
    "## Enlever les playlists qui ont moins de sons que la valeur médiane "
   ]
  },
  {
   "cell_type": "code",
   "execution_count": 7,
   "metadata": {},
   "outputs": [
    {
     "name": "stdout",
     "output_type": "stream",
     "text": [
      "                                 user_id artistname trackname  \\\n",
      "count                           11972305   11972305  11972305   \n",
      "unique                             14694     276342   1900562   \n",
      "top     4398de6902abde3351347b048fcdc287  Daft Punk     Intro   \n",
      "freq                              295274      34553      5859   \n",
      "\n",
      "                                   playlistname  \n",
      "count                                  11972305  \n",
      "unique                                    81916  \n",
      "top     Starred4398de6902abde3351347b048fcdc287  \n",
      "freq                                      47362  \n"
     ]
    }
   ],
   "source": [
    "filtered_df = df_cleaned.groupby('playlistname').filter(lambda x: len(x) > median)\n",
    "print(filtered_df.describe())"
   ]
  },
  {
   "cell_type": "code",
   "execution_count": 8,
   "metadata": {},
   "outputs": [
    {
     "name": "stdout",
     "output_type": "stream",
     "text": [
      "Minimum frequency: 21\n",
      "Maximum frequency: 47362\n",
      "Average frequency: 146.1534376678549\n",
      "Median frequency: 51.0\n"
     ]
    }
   ],
   "source": [
    "value_counts = filtered_df['playlistname'].value_counts()\n",
    "\n",
    "min_frequency = value_counts.min()\n",
    "max_frequency = value_counts.max()\n",
    "average = value_counts.mean()\n",
    "median = value_counts.median()\n",
    "\n",
    "print(\"Minimum frequency:\", min_frequency)\n",
    "print(\"Maximum frequency:\", max_frequency)\n",
    "print(\"Average frequency:\", average)\n",
    "print(\"Median frequency:\", median)"
   ]
  },
  {
   "cell_type": "markdown",
   "metadata": {},
   "source": [
    "## Récupérer les caractéristiques des sons grâce à l'API de Spotify"
   ]
  },
  {
   "cell_type": "markdown",
   "metadata": {},
   "source": [
    "### credentials"
   ]
  },
  {
   "cell_type": "code",
   "execution_count": 9,
   "metadata": {},
   "outputs": [],
   "source": [
    "client_id = 'clientid'\n",
    "client_secret = 'clientsecret'\n",
    "redirect_uri = 'http://localhost:8888/callback'\n",
    "\n",
    "spotify_client = spotipy.Spotify(auth_manager=SpotifyOAuth(client_id=client_id, client_secret=client_secret, redirect_uri=redirect_uri, scope='user-library-read playlist-modify-public'))"
   ]
  },
  {
   "cell_type": "code",
   "execution_count": 109,
   "metadata": {},
   "outputs": [
    {
     "data": {
      "text/html": [
       "<div>\n",
       "<style scoped>\n",
       "    .dataframe tbody tr th:only-of-type {\n",
       "        vertical-align: middle;\n",
       "    }\n",
       "\n",
       "    .dataframe tbody tr th {\n",
       "        vertical-align: top;\n",
       "    }\n",
       "\n",
       "    .dataframe thead th {\n",
       "        text-align: right;\n",
       "    }\n",
       "</style>\n",
       "<table border=\"1\" class=\"dataframe\">\n",
       "  <thead>\n",
       "    <tr style=\"text-align: right;\">\n",
       "      <th></th>\n",
       "      <th>user_id</th>\n",
       "      <th>artistname</th>\n",
       "      <th>trackname</th>\n",
       "      <th>playlistname</th>\n",
       "    </tr>\n",
       "  </thead>\n",
       "  <tbody>\n",
       "    <tr>\n",
       "      <th>0</th>\n",
       "      <td>9cc0cfd4d7d7885102480dd99e7a90d6</td>\n",
       "      <td>Elvis Costello</td>\n",
       "      <td>(The Angels Wanna Wear My) Red Shoes</td>\n",
       "      <td>HARD ROCK 2010</td>\n",
       "    </tr>\n",
       "    <tr>\n",
       "      <th>1</th>\n",
       "      <td>9cc0cfd4d7d7885102480dd99e7a90d6</td>\n",
       "      <td>Elvis Costello &amp; The Attractions</td>\n",
       "      <td>(What's So Funny 'Bout) Peace, Love And Unders...</td>\n",
       "      <td>HARD ROCK 2010</td>\n",
       "    </tr>\n",
       "    <tr>\n",
       "      <th>2</th>\n",
       "      <td>9cc0cfd4d7d7885102480dd99e7a90d6</td>\n",
       "      <td>Tiffany Page</td>\n",
       "      <td>7 Years Too Late</td>\n",
       "      <td>HARD ROCK 2010</td>\n",
       "    </tr>\n",
       "    <tr>\n",
       "      <th>3</th>\n",
       "      <td>9cc0cfd4d7d7885102480dd99e7a90d6</td>\n",
       "      <td>Elvis Costello &amp; The Attractions</td>\n",
       "      <td>Accidents Will Happen</td>\n",
       "      <td>HARD ROCK 2010</td>\n",
       "    </tr>\n",
       "    <tr>\n",
       "      <th>4</th>\n",
       "      <td>9cc0cfd4d7d7885102480dd99e7a90d6</td>\n",
       "      <td>Elvis Costello</td>\n",
       "      <td>Alison</td>\n",
       "      <td>HARD ROCK 2010</td>\n",
       "    </tr>\n",
       "    <tr>\n",
       "      <th>5</th>\n",
       "      <td>9cc0cfd4d7d7885102480dd99e7a90d6</td>\n",
       "      <td>Lissie</td>\n",
       "      <td>All Be Okay</td>\n",
       "      <td>HARD ROCK 2010</td>\n",
       "    </tr>\n",
       "    <tr>\n",
       "      <th>6</th>\n",
       "      <td>9cc0cfd4d7d7885102480dd99e7a90d6</td>\n",
       "      <td>Paul McCartney</td>\n",
       "      <td>Band On The Run</td>\n",
       "      <td>HARD ROCK 2010</td>\n",
       "    </tr>\n",
       "    <tr>\n",
       "      <th>7</th>\n",
       "      <td>9cc0cfd4d7d7885102480dd99e7a90d6</td>\n",
       "      <td>Joe Echo</td>\n",
       "      <td>Beautiful</td>\n",
       "      <td>HARD ROCK 2010</td>\n",
       "    </tr>\n",
       "    <tr>\n",
       "      <th>8</th>\n",
       "      <td>9cc0cfd4d7d7885102480dd99e7a90d6</td>\n",
       "      <td>Paul McCartney</td>\n",
       "      <td>Blackbird - Live at CitiField, NYC - Digital A...</td>\n",
       "      <td>HARD ROCK 2010</td>\n",
       "    </tr>\n",
       "    <tr>\n",
       "      <th>9</th>\n",
       "      <td>9cc0cfd4d7d7885102480dd99e7a90d6</td>\n",
       "      <td>Lissie</td>\n",
       "      <td>Bright Side</td>\n",
       "      <td>HARD ROCK 2010</td>\n",
       "    </tr>\n",
       "  </tbody>\n",
       "</table>\n",
       "</div>"
      ],
      "text/plain": [
       "                            user_id                        artistname  \\\n",
       "0  9cc0cfd4d7d7885102480dd99e7a90d6                    Elvis Costello   \n",
       "1  9cc0cfd4d7d7885102480dd99e7a90d6  Elvis Costello & The Attractions   \n",
       "2  9cc0cfd4d7d7885102480dd99e7a90d6                      Tiffany Page   \n",
       "3  9cc0cfd4d7d7885102480dd99e7a90d6  Elvis Costello & The Attractions   \n",
       "4  9cc0cfd4d7d7885102480dd99e7a90d6                    Elvis Costello   \n",
       "5  9cc0cfd4d7d7885102480dd99e7a90d6                            Lissie   \n",
       "6  9cc0cfd4d7d7885102480dd99e7a90d6                    Paul McCartney   \n",
       "7  9cc0cfd4d7d7885102480dd99e7a90d6                          Joe Echo   \n",
       "8  9cc0cfd4d7d7885102480dd99e7a90d6                    Paul McCartney   \n",
       "9  9cc0cfd4d7d7885102480dd99e7a90d6                            Lissie   \n",
       "\n",
       "                                           trackname    playlistname  \n",
       "0               (The Angels Wanna Wear My) Red Shoes  HARD ROCK 2010  \n",
       "1  (What's So Funny 'Bout) Peace, Love And Unders...  HARD ROCK 2010  \n",
       "2                                   7 Years Too Late  HARD ROCK 2010  \n",
       "3                              Accidents Will Happen  HARD ROCK 2010  \n",
       "4                                             Alison  HARD ROCK 2010  \n",
       "5                                        All Be Okay  HARD ROCK 2010  \n",
       "6                                    Band On The Run  HARD ROCK 2010  \n",
       "7                                          Beautiful  HARD ROCK 2010  \n",
       "8  Blackbird - Live at CitiField, NYC - Digital A...  HARD ROCK 2010  \n",
       "9                                        Bright Side  HARD ROCK 2010  "
      ]
     },
     "execution_count": 109,
     "metadata": {},
     "output_type": "execute_result"
    }
   ],
   "source": [
    "test_df = filtered_df.head(1000) # 1000 sons = 3-4 minutes pour avoir les ids\n",
    "test_df.head(10)"
   ]
  },
  {
   "cell_type": "code",
   "execution_count": 112,
   "metadata": {},
   "outputs": [],
   "source": [
    "def get_track_ids(track_names, artist_names, dataframe):\n",
    "    track_ids = []\n",
    "    indices_to_delete = [] \n",
    "    for i, (track_name, artist_name) in enumerate(zip(track_names, artist_names)):\n",
    "        results = spotify_client.search(q=f'track:{track_name} artist:{artist_name}', type='track', limit=1)\n",
    "        if results['tracks']['items']:\n",
    "            track_id = results['tracks']['items'][0]['id']\n",
    "            track_ids.append(track_id) \n",
    "        else:\n",
    "            indices_to_delete.append(i)\n",
    "\n",
    "    if indices_to_delete: \n",
    "        dataframe = dataframe.drop(dataframe.index[indices_to_delete]).reset_index(drop=True)\n",
    "        \n",
    "    return track_ids, dataframe"
   ]
  },
  {
   "cell_type": "code",
   "execution_count": 113,
   "metadata": {},
   "outputs": [
    {
     "name": "stdout",
     "output_type": "stream",
     "text": [
      "                              user_id                        artistname  \\\n",
      "0    9cc0cfd4d7d7885102480dd99e7a90d6                    Elvis Costello   \n",
      "1    9cc0cfd4d7d7885102480dd99e7a90d6  Elvis Costello & The Attractions   \n",
      "2    9cc0cfd4d7d7885102480dd99e7a90d6  Elvis Costello & The Attractions   \n",
      "3    9cc0cfd4d7d7885102480dd99e7a90d6                    Elvis Costello   \n",
      "4    9cc0cfd4d7d7885102480dd99e7a90d6                            Lissie   \n",
      "..                                ...                               ...   \n",
      "885  07f0fc3be95dcd878966b1f9572ff670                          Deftones   \n",
      "886  07f0fc3be95dcd878966b1f9572ff670                        Audioslave   \n",
      "887  07f0fc3be95dcd878966b1f9572ff670                            John 5   \n",
      "888  07f0fc3be95dcd878966b1f9572ff670                               C2C   \n",
      "889  07f0fc3be95dcd878966b1f9572ff670                 Infected Mushroom   \n",
      "\n",
      "                                             trackname    playlistname  \n",
      "0                 (The Angels Wanna Wear My) Red Shoes  HARD ROCK 2010  \n",
      "1    (What's So Funny 'Bout) Peace, Love And Unders...  HARD ROCK 2010  \n",
      "2                                Accidents Will Happen  HARD ROCK 2010  \n",
      "3                                               Alison  HARD ROCK 2010  \n",
      "4                                          All Be Okay  HARD ROCK 2010  \n",
      "..                                                 ...             ...  \n",
      "885                      Be Quiet And Drive [Far Away]   Work playlist  \n",
      "886                                        Be Yourself   Work playlist  \n",
      "887                                            Beat It   Work playlist  \n",
      "888                                     Because Of You   Work playlist  \n",
      "889                                    Becoming Insane   Work playlist  \n",
      "\n",
      "[890 rows x 4 columns]\n"
     ]
    }
   ],
   "source": [
    "track_ids, test_df = get_track_ids(test_df['trackname'].tolist(), test_df['artistname'].tolist(), test_df)\n",
    "print(test_df)"
   ]
  },
  {
   "cell_type": "code",
   "execution_count": 114,
   "metadata": {},
   "outputs": [],
   "source": [
    "split = [track_ids[i:i+50] for i in range(0, len(track_ids), 50)]\n",
    "song_data = []\n",
    "fieldnames = ['valence', 'year', 'acousticness', 'artists', 'danceability', 'duration_ms', 'energy',\n",
    "              'explicit', 'id', 'instrumentalness', 'key', 'liveness', 'loudness', 'mode', 'name', \n",
    "              'popularity', 'release_date', 'speechiness', 'tempo', 'uri']\n",
    "\n",
    "for track_ids in split:\n",
    "    audio_features = spotify_client.audio_features(track_ids)\n",
    "    track_details = spotify_client.tracks(track_ids)['tracks']\n",
    "\n",
    "    for i, item in enumerate(track_ids):\n",
    "        audio_feature = audio_features[i]\n",
    "        details = track_details[i]\n",
    "\n",
    "        artists = ', '.join([artist['name'] for artist in details['artists']])\n",
    "\n",
    "        song_info = {\n",
    "            'artists': artists,\n",
    "            'key': audio_feature['key'],\n",
    "            'danceability': audio_feature['danceability'],\n",
    "            'liveness': audio_feature['liveness'],\n",
    "            'valence': audio_feature['valence'],\n",
    "            'year': details['album']['release_date'][:4],\n",
    "            'acousticness': audio_feature['acousticness'],\n",
    "            'duration_ms': audio_feature['duration_ms'],\n",
    "            'energy': audio_feature['energy'],\n",
    "            'explicit': int(details['explicit']),\n",
    "            'instrumentalness': audio_feature['instrumentalness'],\n",
    "            'loudness': audio_feature['loudness'],\n",
    "            'mode': audio_feature['mode'],\n",
    "            'popularity': details['popularity'],\n",
    "            'speechiness': audio_feature['speechiness'],\n",
    "            'tempo': audio_feature['tempo'],\n",
    "            'release_date': details['album']['release_date']\n",
    "        }\n",
    "\n",
    "        song_data.append(song_info)\n",
    "\n",
    "for i, data in enumerate(song_data):\n",
    "    for col, value in data.items():\n",
    "        if col not in test_df.columns:\n",
    "            test_df[col] = None\n",
    "        test_df.at[i, col] = value\n"
   ]
  },
  {
   "cell_type": "code",
   "execution_count": 116,
   "metadata": {},
   "outputs": [
    {
     "name": "stdout",
     "output_type": "stream",
     "text": [
      "890\n"
     ]
    }
   ],
   "source": [
    "test_df.head()\n",
    "print(len(test_df))"
   ]
  },
  {
   "cell_type": "markdown",
   "metadata": {},
   "source": [
    "## Diviser le dataset en un set de test et un set d'entrainement"
   ]
  },
  {
   "cell_type": "code",
   "execution_count": 12,
   "metadata": {},
   "outputs": [],
   "source": [
    "# enregister direct dans un csv"
   ]
  }
 ],
 "metadata": {
  "kernelspec": {
   "display_name": "Python 3",
   "language": "python",
   "name": "python3"
  },
  "language_info": {
   "codemirror_mode": {
    "name": "ipython",
    "version": 3
   },
   "file_extension": ".py",
   "mimetype": "text/x-python",
   "name": "python",
   "nbconvert_exporter": "python",
   "pygments_lexer": "ipython3",
   "version": "3.10.11"
  }
 },
 "nbformat": 4,
 "nbformat_minor": 2
}
