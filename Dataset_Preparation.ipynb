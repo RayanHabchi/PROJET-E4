{
 "cells": [
  {
   "cell_type": "markdown",
   "metadata": {},
   "source": [
    "# Ce fichier a pour but de préparer les datasets de test et d'entrainement"
   ]
  },
  {
   "cell_type": "code",
   "execution_count": 14,
   "metadata": {},
   "outputs": [],
   "source": [
    "import numpy as np\n",
    "import pandas as pd\n",
    "import csv\n",
    "import spotipy\n",
    "from spotipy.oauth2 import SpotifyOAuth\n",
    "from spotipy import SpotifyException\n",
    "import os"
   ]
  },
  {
   "cell_type": "markdown",
   "metadata": {},
   "source": [
    "## Retirer colonnes inutiles et doublons"
   ]
  },
  {
   "cell_type": "code",
   "execution_count": 15,
   "metadata": {},
   "outputs": [],
   "source": [
    "csv_filename = 'data/spotify_dataset.csv'\n",
    "\n",
    "df = pd.read_csv(csv_filename, on_bad_lines='skip')\n",
    "\n",
    "df.columns = df.columns.str.strip().str.replace('\"', '')\n",
    "df_cleaned = df.dropna()\n",
    "df_cleaned = df_cleaned.drop_duplicates()\n",
    "\n",
    "# Ajouter l'id de l'user aux playlists 'Starred' et 'Liked from Radio'\n",
    "def update_playlist_name(row):\n",
    "    if row['playlistname'] == 'Starred':\n",
    "        return row['playlistname'] + row['user_id']\n",
    "    elif row['playlistname'] == 'Liked from Radio':\n",
    "        return row['playlistname'] + row['user_id']\n",
    "    return row['playlistname']\n",
    "\n",
    "# Appliquer la fonction à chaque ligne du DataFrame\n",
    "df_cleaned['playlistname'] = df_cleaned.apply(update_playlist_name, axis=1)\n",
    "\n",
    "# la colonne user_id n'est pas utile\n",
    "# df_cleaned = df_cleaned.drop('user_id', axis=1)"
   ]
  },
  {
   "cell_type": "code",
   "execution_count": 16,
   "metadata": {},
   "outputs": [
    {
     "data": {
      "text/html": [
       "<div>\n",
       "<style scoped>\n",
       "    .dataframe tbody tr th:only-of-type {\n",
       "        vertical-align: middle;\n",
       "    }\n",
       "\n",
       "    .dataframe tbody tr th {\n",
       "        vertical-align: top;\n",
       "    }\n",
       "\n",
       "    .dataframe thead th {\n",
       "        text-align: right;\n",
       "    }\n",
       "</style>\n",
       "<table border=\"1\" class=\"dataframe\">\n",
       "  <thead>\n",
       "    <tr style=\"text-align: right;\">\n",
       "      <th></th>\n",
       "      <th>user_id</th>\n",
       "      <th>artistname</th>\n",
       "      <th>trackname</th>\n",
       "      <th>playlistname</th>\n",
       "    </tr>\n",
       "  </thead>\n",
       "  <tbody>\n",
       "    <tr>\n",
       "      <th>0</th>\n",
       "      <td>9cc0cfd4d7d7885102480dd99e7a90d6</td>\n",
       "      <td>Elvis Costello</td>\n",
       "      <td>(The Angels Wanna Wear My) Red Shoes</td>\n",
       "      <td>HARD ROCK 2010</td>\n",
       "    </tr>\n",
       "    <tr>\n",
       "      <th>1</th>\n",
       "      <td>9cc0cfd4d7d7885102480dd99e7a90d6</td>\n",
       "      <td>Elvis Costello &amp; The Attractions</td>\n",
       "      <td>(What's So Funny 'Bout) Peace, Love And Unders...</td>\n",
       "      <td>HARD ROCK 2010</td>\n",
       "    </tr>\n",
       "    <tr>\n",
       "      <th>2</th>\n",
       "      <td>9cc0cfd4d7d7885102480dd99e7a90d6</td>\n",
       "      <td>Tiffany Page</td>\n",
       "      <td>7 Years Too Late</td>\n",
       "      <td>HARD ROCK 2010</td>\n",
       "    </tr>\n",
       "    <tr>\n",
       "      <th>3</th>\n",
       "      <td>9cc0cfd4d7d7885102480dd99e7a90d6</td>\n",
       "      <td>Elvis Costello &amp; The Attractions</td>\n",
       "      <td>Accidents Will Happen</td>\n",
       "      <td>HARD ROCK 2010</td>\n",
       "    </tr>\n",
       "    <tr>\n",
       "      <th>4</th>\n",
       "      <td>9cc0cfd4d7d7885102480dd99e7a90d6</td>\n",
       "      <td>Elvis Costello</td>\n",
       "      <td>Alison</td>\n",
       "      <td>HARD ROCK 2010</td>\n",
       "    </tr>\n",
       "  </tbody>\n",
       "</table>\n",
       "</div>"
      ],
      "text/plain": [
       "                            user_id                        artistname  \\\n",
       "0  9cc0cfd4d7d7885102480dd99e7a90d6                    Elvis Costello   \n",
       "1  9cc0cfd4d7d7885102480dd99e7a90d6  Elvis Costello & The Attractions   \n",
       "2  9cc0cfd4d7d7885102480dd99e7a90d6                      Tiffany Page   \n",
       "3  9cc0cfd4d7d7885102480dd99e7a90d6  Elvis Costello & The Attractions   \n",
       "4  9cc0cfd4d7d7885102480dd99e7a90d6                    Elvis Costello   \n",
       "\n",
       "                                           trackname    playlistname  \n",
       "0               (The Angels Wanna Wear My) Red Shoes  HARD ROCK 2010  \n",
       "1  (What's So Funny 'Bout) Peace, Love And Unders...  HARD ROCK 2010  \n",
       "2                                   7 Years Too Late  HARD ROCK 2010  \n",
       "3                              Accidents Will Happen  HARD ROCK 2010  \n",
       "4                                             Alison  HARD ROCK 2010  "
      ]
     },
     "execution_count": 16,
     "metadata": {},
     "output_type": "execute_result"
    }
   ],
   "source": [
    "df_cleaned.head()"
   ]
  },
  {
   "cell_type": "code",
   "execution_count": 17,
   "metadata": {},
   "outputs": [
    {
     "name": "stdout",
     "output_type": "stream",
     "text": [
      "                                 user_id artistname trackname  \\\n",
      "count                           12856828   12856828  12856828   \n",
      "unique                             15914     289602   2004520   \n",
      "top     4398de6902abde3351347b048fcdc287  Daft Punk     Intro   \n",
      "freq                              295274      36086      6675   \n",
      "\n",
      "                                   playlistname  \n",
      "count                                  12856828  \n",
      "unique                                   165459  \n",
      "top     Starred4398de6902abde3351347b048fcdc287  \n",
      "freq                                      47362  \n"
     ]
    }
   ],
   "source": [
    "print(df_cleaned.describe())"
   ]
  },
  {
   "cell_type": "markdown",
   "metadata": {},
   "source": [
    "## Compter le nombre de colonnes"
   ]
  },
  {
   "cell_type": "code",
   "execution_count": 18,
   "metadata": {},
   "outputs": [
    {
     "name": "stdout",
     "output_type": "stream",
     "text": [
      "Minimum frequency: 1\n",
      "Maximum frequency: 47362\n",
      "Average frequency: 77.70401126563075\n",
      "Median frequency: 20.0\n"
     ]
    }
   ],
   "source": [
    "value_counts = df_cleaned['playlistname'].value_counts()\n",
    "\n",
    "min_frequency = value_counts.min()\n",
    "max_frequency = value_counts.max()\n",
    "average = value_counts.mean()\n",
    "median = value_counts.median()\n",
    "\n",
    "print(\"Minimum frequency:\", min_frequency)\n",
    "print(\"Maximum frequency:\", max_frequency)\n",
    "print(\"Average frequency:\", average)\n",
    "print(\"Median frequency:\", median)"
   ]
  },
  {
   "cell_type": "markdown",
   "metadata": {},
   "source": [
    "## Enlever les playlists qui ont moins de sons que la valeur médiane "
   ]
  },
  {
   "cell_type": "code",
   "execution_count": 19,
   "metadata": {},
   "outputs": [
    {
     "name": "stdout",
     "output_type": "stream",
     "text": [
      "                                 user_id artistname trackname  \\\n",
      "count                           11972305   11972305  11972305   \n",
      "unique                             14694     276342   1900562   \n",
      "top     4398de6902abde3351347b048fcdc287  Daft Punk     Intro   \n",
      "freq                              295274      34553      5859   \n",
      "\n",
      "                                   playlistname  \n",
      "count                                  11972305  \n",
      "unique                                    81916  \n",
      "top     Starred4398de6902abde3351347b048fcdc287  \n",
      "freq                                      47362  \n"
     ]
    }
   ],
   "source": [
    "filtered_df = df_cleaned.groupby('playlistname').filter(lambda x: len(x) > median)\n",
    "print(filtered_df.describe())"
   ]
  },
  {
   "cell_type": "code",
   "execution_count": 20,
   "metadata": {},
   "outputs": [
    {
     "name": "stdout",
     "output_type": "stream",
     "text": [
      "Minimum frequency: 21\n",
      "Maximum frequency: 47362\n",
      "Average frequency: 146.1534376678549\n",
      "Median frequency: 51.0\n"
     ]
    }
   ],
   "source": [
    "value_counts = filtered_df['playlistname'].value_counts()\n",
    "\n",
    "min_frequency = value_counts.min()\n",
    "max_frequency = value_counts.max()\n",
    "average = value_counts.mean()\n",
    "median = value_counts.median()\n",
    "\n",
    "print(\"Minimum frequency:\", min_frequency)\n",
    "print(\"Maximum frequency:\", max_frequency)\n",
    "print(\"Average frequency:\", average)\n",
    "print(\"Median frequency:\", median)"
   ]
  },
  {
   "cell_type": "markdown",
   "metadata": {},
   "source": [
    "## Récupérer les caractéristiques des sons grâce à l'API de Spotify"
   ]
  },
  {
   "cell_type": "markdown",
   "metadata": {},
   "source": [
    "### credentials"
   ]
  },
  {
   "cell_type": "code",
   "execution_count": 21,
   "metadata": {},
   "outputs": [],
   "source": [
    "client_id = 'a390c89e42c947fd806e973ffb0015e6'\n",
    "client_secret = 'e2d01d5846e44084923d09afac2ef3a1'\n",
    "redirect_uri = 'http://localhost:8888/callback'\n",
    "\n",
    "spotify_client = spotipy.Spotify(auth_manager=SpotifyOAuth(client_id=client_id, client_secret=client_secret, redirect_uri=redirect_uri, scope='user-library-read'))"
   ]
  },
  {
   "cell_type": "code",
   "execution_count": 22,
   "metadata": {},
   "outputs": [
    {
     "data": {
      "text/plain": [
       "11972305"
      ]
     },
     "execution_count": 22,
     "metadata": {},
     "output_type": "execute_result"
    }
   ],
   "source": [
    "len(filtered_df)"
   ]
  },
  {
   "cell_type": "code",
   "execution_count": 23,
   "metadata": {},
   "outputs": [
    {
     "data": {
      "text/html": [
       "<div>\n",
       "<style scoped>\n",
       "    .dataframe tbody tr th:only-of-type {\n",
       "        vertical-align: middle;\n",
       "    }\n",
       "\n",
       "    .dataframe tbody tr th {\n",
       "        vertical-align: top;\n",
       "    }\n",
       "\n",
       "    .dataframe thead th {\n",
       "        text-align: right;\n",
       "    }\n",
       "</style>\n",
       "<table border=\"1\" class=\"dataframe\">\n",
       "  <thead>\n",
       "    <tr style=\"text-align: right;\">\n",
       "      <th></th>\n",
       "      <th>user_id</th>\n",
       "      <th>artistname</th>\n",
       "      <th>trackname</th>\n",
       "      <th>playlistname</th>\n",
       "    </tr>\n",
       "  </thead>\n",
       "  <tbody>\n",
       "    <tr>\n",
       "      <th>0</th>\n",
       "      <td>9cc0cfd4d7d7885102480dd99e7a90d6</td>\n",
       "      <td>Elvis Costello</td>\n",
       "      <td>(The Angels Wanna Wear My) Red Shoes</td>\n",
       "      <td>HARD ROCK 2010</td>\n",
       "    </tr>\n",
       "    <tr>\n",
       "      <th>1</th>\n",
       "      <td>9cc0cfd4d7d7885102480dd99e7a90d6</td>\n",
       "      <td>Elvis Costello &amp; The Attractions</td>\n",
       "      <td>(What's So Funny 'Bout) Peace, Love And Unders...</td>\n",
       "      <td>HARD ROCK 2010</td>\n",
       "    </tr>\n",
       "    <tr>\n",
       "      <th>2</th>\n",
       "      <td>9cc0cfd4d7d7885102480dd99e7a90d6</td>\n",
       "      <td>Tiffany Page</td>\n",
       "      <td>7 Years Too Late</td>\n",
       "      <td>HARD ROCK 2010</td>\n",
       "    </tr>\n",
       "    <tr>\n",
       "      <th>3</th>\n",
       "      <td>9cc0cfd4d7d7885102480dd99e7a90d6</td>\n",
       "      <td>Elvis Costello &amp; The Attractions</td>\n",
       "      <td>Accidents Will Happen</td>\n",
       "      <td>HARD ROCK 2010</td>\n",
       "    </tr>\n",
       "    <tr>\n",
       "      <th>4</th>\n",
       "      <td>9cc0cfd4d7d7885102480dd99e7a90d6</td>\n",
       "      <td>Elvis Costello</td>\n",
       "      <td>Alison</td>\n",
       "      <td>HARD ROCK 2010</td>\n",
       "    </tr>\n",
       "    <tr>\n",
       "      <th>5</th>\n",
       "      <td>9cc0cfd4d7d7885102480dd99e7a90d6</td>\n",
       "      <td>Lissie</td>\n",
       "      <td>All Be Okay</td>\n",
       "      <td>HARD ROCK 2010</td>\n",
       "    </tr>\n",
       "    <tr>\n",
       "      <th>6</th>\n",
       "      <td>9cc0cfd4d7d7885102480dd99e7a90d6</td>\n",
       "      <td>Paul McCartney</td>\n",
       "      <td>Band On The Run</td>\n",
       "      <td>HARD ROCK 2010</td>\n",
       "    </tr>\n",
       "    <tr>\n",
       "      <th>7</th>\n",
       "      <td>9cc0cfd4d7d7885102480dd99e7a90d6</td>\n",
       "      <td>Joe Echo</td>\n",
       "      <td>Beautiful</td>\n",
       "      <td>HARD ROCK 2010</td>\n",
       "    </tr>\n",
       "    <tr>\n",
       "      <th>8</th>\n",
       "      <td>9cc0cfd4d7d7885102480dd99e7a90d6</td>\n",
       "      <td>Paul McCartney</td>\n",
       "      <td>Blackbird - Live at CitiField, NYC - Digital A...</td>\n",
       "      <td>HARD ROCK 2010</td>\n",
       "    </tr>\n",
       "    <tr>\n",
       "      <th>9</th>\n",
       "      <td>9cc0cfd4d7d7885102480dd99e7a90d6</td>\n",
       "      <td>Lissie</td>\n",
       "      <td>Bright Side</td>\n",
       "      <td>HARD ROCK 2010</td>\n",
       "    </tr>\n",
       "  </tbody>\n",
       "</table>\n",
       "</div>"
      ],
      "text/plain": [
       "                            user_id                        artistname  \\\n",
       "0  9cc0cfd4d7d7885102480dd99e7a90d6                    Elvis Costello   \n",
       "1  9cc0cfd4d7d7885102480dd99e7a90d6  Elvis Costello & The Attractions   \n",
       "2  9cc0cfd4d7d7885102480dd99e7a90d6                      Tiffany Page   \n",
       "3  9cc0cfd4d7d7885102480dd99e7a90d6  Elvis Costello & The Attractions   \n",
       "4  9cc0cfd4d7d7885102480dd99e7a90d6                    Elvis Costello   \n",
       "5  9cc0cfd4d7d7885102480dd99e7a90d6                            Lissie   \n",
       "6  9cc0cfd4d7d7885102480dd99e7a90d6                    Paul McCartney   \n",
       "7  9cc0cfd4d7d7885102480dd99e7a90d6                          Joe Echo   \n",
       "8  9cc0cfd4d7d7885102480dd99e7a90d6                    Paul McCartney   \n",
       "9  9cc0cfd4d7d7885102480dd99e7a90d6                            Lissie   \n",
       "\n",
       "                                           trackname    playlistname  \n",
       "0               (The Angels Wanna Wear My) Red Shoes  HARD ROCK 2010  \n",
       "1  (What's So Funny 'Bout) Peace, Love And Unders...  HARD ROCK 2010  \n",
       "2                                   7 Years Too Late  HARD ROCK 2010  \n",
       "3                              Accidents Will Happen  HARD ROCK 2010  \n",
       "4                                             Alison  HARD ROCK 2010  \n",
       "5                                        All Be Okay  HARD ROCK 2010  \n",
       "6                                    Band On The Run  HARD ROCK 2010  \n",
       "7                                          Beautiful  HARD ROCK 2010  \n",
       "8  Blackbird - Live at CitiField, NYC - Digital A...  HARD ROCK 2010  \n",
       "9                                        Bright Side  HARD ROCK 2010  "
      ]
     },
     "execution_count": 23,
     "metadata": {},
     "output_type": "execute_result"
    }
   ],
   "source": [
    "test_df = filtered_df.head(1000) # 1000 sons = 3-4 minutes pour avoir les ids\n",
    "test_df.head(10)"
   ]
  },
  {
   "cell_type": "code",
   "execution_count": 24,
   "metadata": {},
   "outputs": [],
   "source": [
    "def get_track_ids(track_names, artist_names, dataframe):\n",
    "    track_ids = []\n",
    "    indices_to_delete = [] \n",
    "    for i, (track_name, artist_name) in enumerate(zip(track_names, artist_names)):\n",
    "        results = spotify_client.search(q=f'track:{track_name} artist:{artist_name}', type='track', limit=1)\n",
    "        if results['tracks']['items']:\n",
    "            track_id = results['tracks']['items'][0]['id']\n",
    "            track_ids.append(track_id) \n",
    "        else:\n",
    "            indices_to_delete.append(i)\n",
    "\n",
    "    if indices_to_delete: \n",
    "        dataframe = dataframe.drop(dataframe.index[indices_to_delete]).reset_index(drop=True)\n",
    "        \n",
    "    return track_ids, dataframe"
   ]
  },
  {
   "cell_type": "code",
   "execution_count": 25,
   "metadata": {},
   "outputs": [
    {
     "name": "stdout",
     "output_type": "stream",
     "text": [
      "                              user_id                        artistname  \\\n",
      "0    9cc0cfd4d7d7885102480dd99e7a90d6                    Elvis Costello   \n",
      "1    9cc0cfd4d7d7885102480dd99e7a90d6  Elvis Costello & The Attractions   \n",
      "2    9cc0cfd4d7d7885102480dd99e7a90d6  Elvis Costello & The Attractions   \n",
      "3    9cc0cfd4d7d7885102480dd99e7a90d6                    Elvis Costello   \n",
      "4    9cc0cfd4d7d7885102480dd99e7a90d6                            Lissie   \n",
      "..                                ...                               ...   \n",
      "885  07f0fc3be95dcd878966b1f9572ff670                          Deftones   \n",
      "886  07f0fc3be95dcd878966b1f9572ff670                        Audioslave   \n",
      "887  07f0fc3be95dcd878966b1f9572ff670                            John 5   \n",
      "888  07f0fc3be95dcd878966b1f9572ff670                               C2C   \n",
      "889  07f0fc3be95dcd878966b1f9572ff670                 Infected Mushroom   \n",
      "\n",
      "                                             trackname    playlistname  \n",
      "0                 (The Angels Wanna Wear My) Red Shoes  HARD ROCK 2010  \n",
      "1    (What's So Funny 'Bout) Peace, Love And Unders...  HARD ROCK 2010  \n",
      "2                                Accidents Will Happen  HARD ROCK 2010  \n",
      "3                                               Alison  HARD ROCK 2010  \n",
      "4                                          All Be Okay  HARD ROCK 2010  \n",
      "..                                                 ...             ...  \n",
      "885                      Be Quiet And Drive [Far Away]   Work playlist  \n",
      "886                                        Be Yourself   Work playlist  \n",
      "887                                            Beat It   Work playlist  \n",
      "888                                     Because Of You   Work playlist  \n",
      "889                                    Becoming Insane   Work playlist  \n",
      "\n",
      "[890 rows x 4 columns]\n"
     ]
    }
   ],
   "source": [
    "track_ids, test_df = get_track_ids(test_df['trackname'].tolist(), test_df['artistname'].tolist(), test_df)\n",
    "print(test_df)"
   ]
  },
  {
   "cell_type": "code",
   "execution_count": 36,
   "metadata": {},
   "outputs": [],
   "source": [
    "split = [track_ids[i:i+50] for i in range(0, len(track_ids), 50)]\n",
    "song_data = []\n",
    "fieldnames = ['valence', 'year', 'acousticness', 'artists', 'danceability', 'duration_ms', 'energy',\n",
    "              'explicit', 'id', 'instrumentalness', 'key', 'liveness', 'loudness', 'mode', 'name', \n",
    "              'popularity', 'release_date', 'speechiness', 'tempo', 'uri']\n",
    "\n",
    "for track_ids in split:\n",
    "    audio_features = spotify_client.audio_features(track_ids)\n",
    "    track_details = spotify_client.tracks(track_ids)['tracks']\n",
    "\n",
    "    for i, item in enumerate(track_ids):\n",
    "        audio_feature = audio_features[i]\n",
    "        details = track_details[i]\n",
    "\n",
    "        artists = ', '.join([artist['name'] for artist in details['artists']])\n",
    "\n",
    "        song_info = {\n",
    "            'id': item,\n",
    "            'artists': artists,\n",
    "            'key': audio_feature['key'],\n",
    "            'danceability': audio_feature['danceability'],\n",
    "            'liveness': audio_feature['liveness'],\n",
    "            'valence': audio_feature['valence'],\n",
    "            'year': details['album']['release_date'][:4],\n",
    "            'acousticness': audio_feature['acousticness'],\n",
    "            'duration_ms': audio_feature['duration_ms'],\n",
    "            'energy': audio_feature['energy'],\n",
    "            'explicit': int(details['explicit']),\n",
    "            'instrumentalness': audio_feature['instrumentalness'],\n",
    "            'loudness': audio_feature['loudness'],\n",
    "            'mode': audio_feature['mode'],\n",
    "            'popularity': details['popularity'],\n",
    "            'speechiness': audio_feature['speechiness'],\n",
    "            'tempo': audio_feature['tempo'],\n",
    "            'release_date': details['album']['release_date']\n",
    "        }\n",
    "\n",
    "        song_data.append(song_info)\n",
    "\n",
    "for i, data in enumerate(song_data):\n",
    "    for col, value in data.items():\n",
    "        if col not in test_df.columns:\n",
    "            test_df[col] = None\n",
    "        test_df.at[i, col] = value\n"
   ]
  },
  {
   "cell_type": "code",
   "execution_count": 27,
   "metadata": {},
   "outputs": [
    {
     "name": "stdout",
     "output_type": "stream",
     "text": [
      "890\n"
     ]
    },
    {
     "data": {
      "text/html": [
       "<div>\n",
       "<style scoped>\n",
       "    .dataframe tbody tr th:only-of-type {\n",
       "        vertical-align: middle;\n",
       "    }\n",
       "\n",
       "    .dataframe tbody tr th {\n",
       "        vertical-align: top;\n",
       "    }\n",
       "\n",
       "    .dataframe thead th {\n",
       "        text-align: right;\n",
       "    }\n",
       "</style>\n",
       "<table border=\"1\" class=\"dataframe\">\n",
       "  <thead>\n",
       "    <tr style=\"text-align: right;\">\n",
       "      <th></th>\n",
       "      <th>user_id</th>\n",
       "      <th>artistname</th>\n",
       "      <th>trackname</th>\n",
       "      <th>playlistname</th>\n",
       "      <th>id</th>\n",
       "      <th>artists</th>\n",
       "      <th>key</th>\n",
       "      <th>danceability</th>\n",
       "      <th>liveness</th>\n",
       "      <th>valence</th>\n",
       "      <th>...</th>\n",
       "      <th>duration_ms</th>\n",
       "      <th>energy</th>\n",
       "      <th>explicit</th>\n",
       "      <th>instrumentalness</th>\n",
       "      <th>loudness</th>\n",
       "      <th>mode</th>\n",
       "      <th>popularity</th>\n",
       "      <th>speechiness</th>\n",
       "      <th>tempo</th>\n",
       "      <th>release_date</th>\n",
       "    </tr>\n",
       "  </thead>\n",
       "  <tbody>\n",
       "    <tr>\n",
       "      <th>0</th>\n",
       "      <td>9cc0cfd4d7d7885102480dd99e7a90d6</td>\n",
       "      <td>Elvis Costello</td>\n",
       "      <td>(The Angels Wanna Wear My) Red Shoes</td>\n",
       "      <td>HARD ROCK 2010</td>\n",
       "      <td>0GmLrYUBXDC5vti77zBZfJ</td>\n",
       "      <td>Elvis Costello</td>\n",
       "      <td>4</td>\n",
       "      <td>0.577</td>\n",
       "      <td>0.226</td>\n",
       "      <td>0.901</td>\n",
       "      <td>...</td>\n",
       "      <td>167680</td>\n",
       "      <td>0.636</td>\n",
       "      <td>0</td>\n",
       "      <td>0.00016</td>\n",
       "      <td>-9.825</td>\n",
       "      <td>1</td>\n",
       "      <td>38</td>\n",
       "      <td>0.0491</td>\n",
       "      <td>134.768</td>\n",
       "      <td>1977-07-22</td>\n",
       "    </tr>\n",
       "    <tr>\n",
       "      <th>1</th>\n",
       "      <td>9cc0cfd4d7d7885102480dd99e7a90d6</td>\n",
       "      <td>Elvis Costello &amp; The Attractions</td>\n",
       "      <td>(What's So Funny 'Bout) Peace, Love And Unders...</td>\n",
       "      <td>HARD ROCK 2010</td>\n",
       "      <td>77XzsYwTkvLoveW01Lanrk</td>\n",
       "      <td>Elvis Costello &amp; The Attractions</td>\n",
       "      <td>7</td>\n",
       "      <td>0.381</td>\n",
       "      <td>0.321</td>\n",
       "      <td>0.368</td>\n",
       "      <td>...</td>\n",
       "      <td>211630</td>\n",
       "      <td>0.918</td>\n",
       "      <td>0</td>\n",
       "      <td>0.0511</td>\n",
       "      <td>-9.451</td>\n",
       "      <td>1</td>\n",
       "      <td>39</td>\n",
       "      <td>0.0803</td>\n",
       "      <td>142.34</td>\n",
       "      <td>2020-11-06</td>\n",
       "    </tr>\n",
       "    <tr>\n",
       "      <th>2</th>\n",
       "      <td>9cc0cfd4d7d7885102480dd99e7a90d6</td>\n",
       "      <td>Elvis Costello &amp; The Attractions</td>\n",
       "      <td>Accidents Will Happen</td>\n",
       "      <td>HARD ROCK 2010</td>\n",
       "      <td>2Rv3hGdKSLeX30V55asE3s</td>\n",
       "      <td>Elvis Costello &amp; The Attractions</td>\n",
       "      <td>0</td>\n",
       "      <td>0.608</td>\n",
       "      <td>0.285</td>\n",
       "      <td>0.736</td>\n",
       "      <td>...</td>\n",
       "      <td>181720</td>\n",
       "      <td>0.597</td>\n",
       "      <td>0</td>\n",
       "      <td>0.00342</td>\n",
       "      <td>-11.115</td>\n",
       "      <td>1</td>\n",
       "      <td>37</td>\n",
       "      <td>0.0276</td>\n",
       "      <td>120.077</td>\n",
       "      <td>1979-01-05</td>\n",
       "    </tr>\n",
       "    <tr>\n",
       "      <th>3</th>\n",
       "      <td>9cc0cfd4d7d7885102480dd99e7a90d6</td>\n",
       "      <td>Elvis Costello</td>\n",
       "      <td>Alison</td>\n",
       "      <td>HARD ROCK 2010</td>\n",
       "      <td>1v98rfd0an913AzHvMNG8a</td>\n",
       "      <td>Elvis Costello</td>\n",
       "      <td>1</td>\n",
       "      <td>0.557</td>\n",
       "      <td>0.112</td>\n",
       "      <td>0.377</td>\n",
       "      <td>...</td>\n",
       "      <td>204533</td>\n",
       "      <td>0.32</td>\n",
       "      <td>0</td>\n",
       "      <td>0.00004</td>\n",
       "      <td>-10.792</td>\n",
       "      <td>0</td>\n",
       "      <td>52</td>\n",
       "      <td>0.0438</td>\n",
       "      <td>176.647</td>\n",
       "      <td>1977-07-22</td>\n",
       "    </tr>\n",
       "    <tr>\n",
       "      <th>4</th>\n",
       "      <td>9cc0cfd4d7d7885102480dd99e7a90d6</td>\n",
       "      <td>Lissie</td>\n",
       "      <td>All Be Okay</td>\n",
       "      <td>HARD ROCK 2010</td>\n",
       "      <td>6wM5ZSUB7RMr7zYfGiO6d9</td>\n",
       "      <td>Lissie</td>\n",
       "      <td>3</td>\n",
       "      <td>0.582</td>\n",
       "      <td>0.0974</td>\n",
       "      <td>0.533</td>\n",
       "      <td>...</td>\n",
       "      <td>250069</td>\n",
       "      <td>0.643</td>\n",
       "      <td>0</td>\n",
       "      <td>0</td>\n",
       "      <td>-6.047</td>\n",
       "      <td>1</td>\n",
       "      <td>6</td>\n",
       "      <td>0.0309</td>\n",
       "      <td>122.084</td>\n",
       "      <td>2021-06-04</td>\n",
       "    </tr>\n",
       "  </tbody>\n",
       "</table>\n",
       "<p>5 rows × 22 columns</p>\n",
       "</div>"
      ],
      "text/plain": [
       "                            user_id                        artistname  \\\n",
       "0  9cc0cfd4d7d7885102480dd99e7a90d6                    Elvis Costello   \n",
       "1  9cc0cfd4d7d7885102480dd99e7a90d6  Elvis Costello & The Attractions   \n",
       "2  9cc0cfd4d7d7885102480dd99e7a90d6  Elvis Costello & The Attractions   \n",
       "3  9cc0cfd4d7d7885102480dd99e7a90d6                    Elvis Costello   \n",
       "4  9cc0cfd4d7d7885102480dd99e7a90d6                            Lissie   \n",
       "\n",
       "                                           trackname    playlistname  \\\n",
       "0               (The Angels Wanna Wear My) Red Shoes  HARD ROCK 2010   \n",
       "1  (What's So Funny 'Bout) Peace, Love And Unders...  HARD ROCK 2010   \n",
       "2                              Accidents Will Happen  HARD ROCK 2010   \n",
       "3                                             Alison  HARD ROCK 2010   \n",
       "4                                        All Be Okay  HARD ROCK 2010   \n",
       "\n",
       "                       id                           artists key danceability  \\\n",
       "0  0GmLrYUBXDC5vti77zBZfJ                    Elvis Costello   4        0.577   \n",
       "1  77XzsYwTkvLoveW01Lanrk  Elvis Costello & The Attractions   7        0.381   \n",
       "2  2Rv3hGdKSLeX30V55asE3s  Elvis Costello & The Attractions   0        0.608   \n",
       "3  1v98rfd0an913AzHvMNG8a                    Elvis Costello   1        0.557   \n",
       "4  6wM5ZSUB7RMr7zYfGiO6d9                            Lissie   3        0.582   \n",
       "\n",
       "  liveness valence  ... duration_ms energy explicit instrumentalness loudness  \\\n",
       "0    0.226   0.901  ...      167680  0.636        0          0.00016   -9.825   \n",
       "1    0.321   0.368  ...      211630  0.918        0           0.0511   -9.451   \n",
       "2    0.285   0.736  ...      181720  0.597        0          0.00342  -11.115   \n",
       "3    0.112   0.377  ...      204533   0.32        0          0.00004  -10.792   \n",
       "4   0.0974   0.533  ...      250069  0.643        0                0   -6.047   \n",
       "\n",
       "  mode popularity speechiness    tempo release_date  \n",
       "0    1         38      0.0491  134.768   1977-07-22  \n",
       "1    1         39      0.0803   142.34   2020-11-06  \n",
       "2    1         37      0.0276  120.077   1979-01-05  \n",
       "3    0         52      0.0438  176.647   1977-07-22  \n",
       "4    1          6      0.0309  122.084   2021-06-04  \n",
       "\n",
       "[5 rows x 22 columns]"
      ]
     },
     "execution_count": 27,
     "metadata": {},
     "output_type": "execute_result"
    }
   ],
   "source": [
    "print(len(test_df))\n",
    "test_df.head()"
   ]
  },
  {
   "cell_type": "code",
   "execution_count": 28,
   "metadata": {},
   "outputs": [],
   "source": [
    "# export du df préparé dans un csv pour pouvoir l'utiliser dans un autre fichier\n",
    "test_df.to_csv('data/prepared_data.csv', index=False)"
   ]
  },
  {
   "cell_type": "markdown",
   "metadata": {},
   "source": [
    "# Ajout de la colonne l'URI de la track dans copy_test_df"
   ]
  },
  {
   "cell_type": "code",
   "execution_count": 29,
   "metadata": {},
   "outputs": [],
   "source": [
    "# test_df.head(1)\n",
    "\n",
    "# print(\"colonnes avant : \\n\", test_df.columns)\n",
    "\n",
    "# # Ajout une colonne URI\n",
    "# def get_track_uri(track_name, artist_name, spotify_client):\n",
    "#     max_length = 100  # Limite de longueur arbitraire pour éviter des requêtes trop longues\n",
    "#     track_name = track_name[:max_length]\n",
    "#     artist_name = artist_name[:max_length]\n",
    "    \n",
    "#     try:\n",
    "#         results = spotify_client.search(q=f'track:{track_name} artist:{artist_name}', type='track', limit=1)\n",
    "#         if results['tracks']['items']:\n",
    "#             track_uri = results['tracks']['items'][0]['uri']\n",
    "#             return track_uri\n",
    "#         else:\n",
    "#             return None\n",
    "#     except spotipy.exceptions.SpotifyException as e:\n",
    "#         print(f\"Spotify error: {e}\")\n",
    "#         return None\n",
    "\n",
    "# # Ajouter une colonne 'uri' contenant les identifiants URI dans copy_test_df\n",
    "# #test_df['uri'] = test_df.apply(lambda row: get_track_uri(row['trackname'], row['artistname'], spotify_client), axis=1)\n",
    "\n",
    "# print(\"colonnes apères : \\n \", test_df.columns)\n"
   ]
  },
  {
   "cell_type": "code",
   "execution_count": 30,
   "metadata": {},
   "outputs": [],
   "source": [
    "# print(test_df.columns)\n",
    "# test_df.head(1)"
   ]
  },
  {
   "cell_type": "markdown",
   "metadata": {},
   "source": [
    "# Ajout de la colonne l'URI de la track dans spotify_data"
   ]
  },
  {
   "cell_type": "code",
   "execution_count": 31,
   "metadata": {},
   "outputs": [],
   "source": [
    "# spotify_data = pd.read_csv('./data/data.csv.zip')\n",
    "\n",
    "# # Data format\n",
    "# spotify_data['artists'] = spotify_data['artists'].str.replace(\"['\", \"\", regex=False)\n",
    "# spotify_data['artists'] = spotify_data['artists'].str.replace(\"']\", \"\", regex=False)\n",
    "# spotify_data['artists'] = spotify_data['artists'].str.replace(\"'\", \"\", regex=False)\n",
    "\n",
    "# spotify_data = spotify_data.rename(columns=lambda x: x.strip().replace('\"', ''))\n",
    "# spotify_data = spotify_data.rename(columns={'name': 'trackname', 'artists': 'artistname'})\n",
    "\n",
    "# print(\"taille : \", len(spotify_data))\n",
    "# print(\"colonnes avant : \\n\", spotify_data.columns)"
   ]
  },
  {
   "cell_type": "code",
   "execution_count": 32,
   "metadata": {},
   "outputs": [],
   "source": [
    "# print(\"taille de spotify_data :\", len(spotify_data))\n",
    "# print(\"colonnes avant : \\n\", spotify_data.columns)\n",
    "\n",
    "# # Déterminer où reprendre le traitement\n",
    "# output_filename = 'new_spotify_data.csv'\n",
    "# if os.path.exists(output_filename):\n",
    "#     processed_data = pd.read_csv(output_filename)\n",
    "#     processed_uris = processed_data['uri'].dropna().tolist()\n",
    "#     last_processed_index = len(processed_uris)\n",
    "# else:\n",
    "#     last_processed_index = 0\n",
    "\n",
    "# print(f\"Reprenant à partir de l'index {last_processed_index}\")\n",
    "\n",
    "# # Traiter les données par lots de 10 chansons à partir du dernier point de reprise\n",
    "# batch_size = 10\n",
    "# for start in range(last_processed_index, len(spotify_data), batch_size):\n",
    "#     end = start + batch_size\n",
    "#     batch = spotify_data.iloc[start:end].copy()\n",
    "\n",
    "#     # Ajouter la colonne 'uri' dans le batch\n",
    "#     batch['uri'] = batch.apply(lambda row: get_track_uri(row['trackname'], row['artistname'], spotify_client), axis=1)\n",
    "\n",
    "#     # Enregistrer le batch dans le fichier CSV\n",
    "#     if start == last_processed_index and start == 0:\n",
    "#         batch.to_csv(output_filename, index=False, mode='w', header=True)\n",
    "#     else:\n",
    "#         batch.to_csv(output_filename, index=False, mode='a', header=False)\n",
    "\n",
    "#     print(f\"Processed and saved batch {start} to {end}\")\n",
    "\n",
    "# print(\"Le fichier spotify_data_with_uri.csv a été créé avec les URI ajoutés.\")\n",
    "# print(\"colonnes après : \\n\", spotify_data.columns)"
   ]
  },
  {
   "cell_type": "code",
   "execution_count": 33,
   "metadata": {},
   "outputs": [],
   "source": [
    "# new_spotify_data = pd.read_csv('new_spotify_data.csv')\n",
    "# data_clean = pd.read_csv('data_clean.csv')\n",
    "\n",
    "# # Afficher le nombre de chansons dans le nouveau fichier CSV\n",
    "# nombre_de_chansons = len(new_spotify_data)\n",
    "# print(\"Nombre de chansons dans le nouveau CSV :\", nombre_de_chansons)\n",
    "\n",
    "# print(\"colonnes après : \\n\", new_spotify_data.columns)\n"
   ]
  },
  {
   "cell_type": "markdown",
   "metadata": {},
   "source": [
    "Nettoyage des URIs\n"
   ]
  },
  {
   "cell_type": "markdown",
   "metadata": {},
   "source": [
    "# CHERCHER UN SON EN COMMUN DANS DATA DES PLAYLIST ET L'AUTRE"
   ]
  },
  {
   "cell_type": "markdown",
   "metadata": {},
   "source": [
    "à faire"
   ]
  },
  {
   "cell_type": "code",
   "execution_count": 34,
   "metadata": {},
   "outputs": [],
   "source": [
    "# # Filtrer les lignes avec des URIs valides\n",
    "# new_spotify_data = new_spotify_data.dropna(subset=['uri'])\n",
    "# data_clean = data_clean.dropna(subset=['uri'])\n",
    "\n",
    "# # Rechercher les pistes en commun en utilisant l'URI\n",
    "# common_tracks = pd.merge(new_spotify_data, data_clean, on='uri', how='inner', suffixes=('_spotify', '_data'))\n",
    "\n",
    "# # Afficher le nombre de pistes en commun et les titres et artistes des pistes communes\n",
    "# print(f\"Nombre de pistes en commun: {len(common_tracks)}\")"
   ]
  },
  {
   "cell_type": "markdown",
   "metadata": {},
   "source": [
    "# ENREGISTRER EN new CSV test_df"
   ]
  },
  {
   "cell_type": "code",
   "execution_count": 35,
   "metadata": {},
   "outputs": [],
   "source": [
    "# # Sauvegarder test_df en tant que nouveau fichier CSV\n",
    "# output_filename = 'data_clean.csv'\n",
    "# test_df.to_csv(output_filename, index=False)\n",
    "# print(f\"Le fichier {output_filename} a été créé.\")"
   ]
  }
 ],
 "metadata": {
  "kernelspec": {
   "display_name": "Python 3",
   "language": "python",
   "name": "python3"
  },
  "language_info": {
   "codemirror_mode": {
    "name": "ipython",
    "version": 3
   },
   "file_extension": ".py",
   "mimetype": "text/x-python",
   "name": "python",
   "nbconvert_exporter": "python",
   "pygments_lexer": "ipython3",
   "version": "3.10.11"
  }
 },
 "nbformat": 4,
 "nbformat_minor": 2
}
